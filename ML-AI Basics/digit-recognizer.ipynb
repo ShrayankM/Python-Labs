{
 "cells": [
  {
   "cell_type": "code",
   "execution_count": 1,
   "id": "3db02088",
   "metadata": {
    "_cell_guid": "b1076dfc-b9ad-4769-8c92-a6c4dae69d19",
    "_uuid": "8f2839f25d086af736a60e9eeb907d3b93b6e0e5",
    "execution": {
     "iopub.execute_input": "2022-01-21T04:46:34.106356Z",
     "iopub.status.busy": "2022-01-21T04:46:34.105652Z",
     "iopub.status.idle": "2022-01-21T04:46:34.113152Z",
     "shell.execute_reply": "2022-01-21T04:46:34.113854Z",
     "shell.execute_reply.started": "2022-01-21T04:39:31.383714Z"
    },
    "papermill": {
     "duration": 0.039163,
     "end_time": "2022-01-21T04:46:34.114176",
     "exception": false,
     "start_time": "2022-01-21T04:46:34.075013",
     "status": "completed"
    },
    "tags": []
   },
   "outputs": [
    {
     "name": "stdout",
     "output_type": "stream",
     "text": [
      "digit-recognizer/train.csv\n",
      "digit-recognizer/test.csv\n",
      "digit-recognizer/sample_submission.csv\n"
     ]
    }
   ],
   "source": [
    "\n",
    "\n",
    "import numpy as np # linear algebra\n",
    "import pandas as pd # data processing, CSV file I/O (e.g. pd.read_csv)\n",
    "\n",
    "import os\n",
    "for dirname, _, filenames in os.walk('digit-recognizer/'):\n",
    "    for filename in filenames:\n",
    "        print(os.path.join(dirname, filename))\n"
   ]
  },
  {
   "cell_type": "code",
   "execution_count": 2,
   "id": "cfa6674f",
   "metadata": {
    "execution": {
     "iopub.execute_input": "2022-01-21T04:46:34.153523Z",
     "iopub.status.busy": "2022-01-21T04:46:34.152883Z",
     "iopub.status.idle": "2022-01-21T04:46:37.730028Z",
     "shell.execute_reply": "2022-01-21T04:46:37.729572Z",
     "shell.execute_reply.started": "2022-01-21T04:39:31.423489Z"
    },
    "papermill": {
     "duration": 3.597866,
     "end_time": "2022-01-21T04:46:37.730192",
     "exception": false,
     "start_time": "2022-01-21T04:46:34.132326",
     "status": "completed"
    },
    "tags": []
   },
   "outputs": [],
   "source": [
    "df_train = pd.read_csv(\"digit-recognizer/train.csv\")"
   ]
  },
  {
   "cell_type": "code",
   "execution_count": 3,
   "id": "945f89fb",
   "metadata": {
    "execution": {
     "iopub.execute_input": "2022-01-21T04:46:37.774678Z",
     "iopub.status.busy": "2022-01-21T04:46:37.774065Z",
     "iopub.status.idle": "2022-01-21T04:46:37.856141Z",
     "shell.execute_reply": "2022-01-21T04:46:37.855610Z",
     "shell.execute_reply.started": "2022-01-21T04:39:36.053670Z"
    },
    "papermill": {
     "duration": 0.108388,
     "end_time": "2022-01-21T04:46:37.856277",
     "exception": false,
     "start_time": "2022-01-21T04:46:37.747889",
     "status": "completed"
    },
    "tags": []
   },
   "outputs": [],
   "source": [
    "x, y = df_train.drop(columns = [\"label\"]), df_train[\"label\"]"
   ]
  },
  {
   "cell_type": "code",
   "execution_count": 4,
   "id": "75d32c7f",
   "metadata": {
    "execution": {
     "iopub.execute_input": "2022-01-21T04:46:37.897999Z",
     "iopub.status.busy": "2022-01-21T04:46:37.897226Z",
     "iopub.status.idle": "2022-01-21T04:46:37.919234Z",
     "shell.execute_reply": "2022-01-21T04:46:37.918734Z",
     "shell.execute_reply.started": "2022-01-21T04:39:36.179104Z"
    },
    "papermill": {
     "duration": 0.045439,
     "end_time": "2022-01-21T04:46:37.919351",
     "exception": false,
     "start_time": "2022-01-21T04:46:37.873912",
     "status": "completed"
    },
    "tags": []
   },
   "outputs": [
    {
     "data": {
      "text/html": [
       "<div>\n",
       "<style scoped>\n",
       "    .dataframe tbody tr th:only-of-type {\n",
       "        vertical-align: middle;\n",
       "    }\n",
       "\n",
       "    .dataframe tbody tr th {\n",
       "        vertical-align: top;\n",
       "    }\n",
       "\n",
       "    .dataframe thead th {\n",
       "        text-align: right;\n",
       "    }\n",
       "</style>\n",
       "<table border=\"1\" class=\"dataframe\">\n",
       "  <thead>\n",
       "    <tr style=\"text-align: right;\">\n",
       "      <th></th>\n",
       "      <th>pixel0</th>\n",
       "      <th>pixel1</th>\n",
       "      <th>pixel2</th>\n",
       "      <th>pixel3</th>\n",
       "      <th>pixel4</th>\n",
       "      <th>pixel5</th>\n",
       "      <th>pixel6</th>\n",
       "      <th>pixel7</th>\n",
       "      <th>pixel8</th>\n",
       "      <th>pixel9</th>\n",
       "      <th>...</th>\n",
       "      <th>pixel774</th>\n",
       "      <th>pixel775</th>\n",
       "      <th>pixel776</th>\n",
       "      <th>pixel777</th>\n",
       "      <th>pixel778</th>\n",
       "      <th>pixel779</th>\n",
       "      <th>pixel780</th>\n",
       "      <th>pixel781</th>\n",
       "      <th>pixel782</th>\n",
       "      <th>pixel783</th>\n",
       "    </tr>\n",
       "  </thead>\n",
       "  <tbody>\n",
       "    <tr>\n",
       "      <th>0</th>\n",
       "      <td>0</td>\n",
       "      <td>0</td>\n",
       "      <td>0</td>\n",
       "      <td>0</td>\n",
       "      <td>0</td>\n",
       "      <td>0</td>\n",
       "      <td>0</td>\n",
       "      <td>0</td>\n",
       "      <td>0</td>\n",
       "      <td>0</td>\n",
       "      <td>...</td>\n",
       "      <td>0</td>\n",
       "      <td>0</td>\n",
       "      <td>0</td>\n",
       "      <td>0</td>\n",
       "      <td>0</td>\n",
       "      <td>0</td>\n",
       "      <td>0</td>\n",
       "      <td>0</td>\n",
       "      <td>0</td>\n",
       "      <td>0</td>\n",
       "    </tr>\n",
       "    <tr>\n",
       "      <th>1</th>\n",
       "      <td>0</td>\n",
       "      <td>0</td>\n",
       "      <td>0</td>\n",
       "      <td>0</td>\n",
       "      <td>0</td>\n",
       "      <td>0</td>\n",
       "      <td>0</td>\n",
       "      <td>0</td>\n",
       "      <td>0</td>\n",
       "      <td>0</td>\n",
       "      <td>...</td>\n",
       "      <td>0</td>\n",
       "      <td>0</td>\n",
       "      <td>0</td>\n",
       "      <td>0</td>\n",
       "      <td>0</td>\n",
       "      <td>0</td>\n",
       "      <td>0</td>\n",
       "      <td>0</td>\n",
       "      <td>0</td>\n",
       "      <td>0</td>\n",
       "    </tr>\n",
       "    <tr>\n",
       "      <th>2</th>\n",
       "      <td>0</td>\n",
       "      <td>0</td>\n",
       "      <td>0</td>\n",
       "      <td>0</td>\n",
       "      <td>0</td>\n",
       "      <td>0</td>\n",
       "      <td>0</td>\n",
       "      <td>0</td>\n",
       "      <td>0</td>\n",
       "      <td>0</td>\n",
       "      <td>...</td>\n",
       "      <td>0</td>\n",
       "      <td>0</td>\n",
       "      <td>0</td>\n",
       "      <td>0</td>\n",
       "      <td>0</td>\n",
       "      <td>0</td>\n",
       "      <td>0</td>\n",
       "      <td>0</td>\n",
       "      <td>0</td>\n",
       "      <td>0</td>\n",
       "    </tr>\n",
       "    <tr>\n",
       "      <th>3</th>\n",
       "      <td>0</td>\n",
       "      <td>0</td>\n",
       "      <td>0</td>\n",
       "      <td>0</td>\n",
       "      <td>0</td>\n",
       "      <td>0</td>\n",
       "      <td>0</td>\n",
       "      <td>0</td>\n",
       "      <td>0</td>\n",
       "      <td>0</td>\n",
       "      <td>...</td>\n",
       "      <td>0</td>\n",
       "      <td>0</td>\n",
       "      <td>0</td>\n",
       "      <td>0</td>\n",
       "      <td>0</td>\n",
       "      <td>0</td>\n",
       "      <td>0</td>\n",
       "      <td>0</td>\n",
       "      <td>0</td>\n",
       "      <td>0</td>\n",
       "    </tr>\n",
       "    <tr>\n",
       "      <th>4</th>\n",
       "      <td>0</td>\n",
       "      <td>0</td>\n",
       "      <td>0</td>\n",
       "      <td>0</td>\n",
       "      <td>0</td>\n",
       "      <td>0</td>\n",
       "      <td>0</td>\n",
       "      <td>0</td>\n",
       "      <td>0</td>\n",
       "      <td>0</td>\n",
       "      <td>...</td>\n",
       "      <td>0</td>\n",
       "      <td>0</td>\n",
       "      <td>0</td>\n",
       "      <td>0</td>\n",
       "      <td>0</td>\n",
       "      <td>0</td>\n",
       "      <td>0</td>\n",
       "      <td>0</td>\n",
       "      <td>0</td>\n",
       "      <td>0</td>\n",
       "    </tr>\n",
       "    <tr>\n",
       "      <th>...</th>\n",
       "      <td>...</td>\n",
       "      <td>...</td>\n",
       "      <td>...</td>\n",
       "      <td>...</td>\n",
       "      <td>...</td>\n",
       "      <td>...</td>\n",
       "      <td>...</td>\n",
       "      <td>...</td>\n",
       "      <td>...</td>\n",
       "      <td>...</td>\n",
       "      <td>...</td>\n",
       "      <td>...</td>\n",
       "      <td>...</td>\n",
       "      <td>...</td>\n",
       "      <td>...</td>\n",
       "      <td>...</td>\n",
       "      <td>...</td>\n",
       "      <td>...</td>\n",
       "      <td>...</td>\n",
       "      <td>...</td>\n",
       "      <td>...</td>\n",
       "    </tr>\n",
       "    <tr>\n",
       "      <th>41995</th>\n",
       "      <td>0</td>\n",
       "      <td>0</td>\n",
       "      <td>0</td>\n",
       "      <td>0</td>\n",
       "      <td>0</td>\n",
       "      <td>0</td>\n",
       "      <td>0</td>\n",
       "      <td>0</td>\n",
       "      <td>0</td>\n",
       "      <td>0</td>\n",
       "      <td>...</td>\n",
       "      <td>0</td>\n",
       "      <td>0</td>\n",
       "      <td>0</td>\n",
       "      <td>0</td>\n",
       "      <td>0</td>\n",
       "      <td>0</td>\n",
       "      <td>0</td>\n",
       "      <td>0</td>\n",
       "      <td>0</td>\n",
       "      <td>0</td>\n",
       "    </tr>\n",
       "    <tr>\n",
       "      <th>41996</th>\n",
       "      <td>0</td>\n",
       "      <td>0</td>\n",
       "      <td>0</td>\n",
       "      <td>0</td>\n",
       "      <td>0</td>\n",
       "      <td>0</td>\n",
       "      <td>0</td>\n",
       "      <td>0</td>\n",
       "      <td>0</td>\n",
       "      <td>0</td>\n",
       "      <td>...</td>\n",
       "      <td>0</td>\n",
       "      <td>0</td>\n",
       "      <td>0</td>\n",
       "      <td>0</td>\n",
       "      <td>0</td>\n",
       "      <td>0</td>\n",
       "      <td>0</td>\n",
       "      <td>0</td>\n",
       "      <td>0</td>\n",
       "      <td>0</td>\n",
       "    </tr>\n",
       "    <tr>\n",
       "      <th>41997</th>\n",
       "      <td>0</td>\n",
       "      <td>0</td>\n",
       "      <td>0</td>\n",
       "      <td>0</td>\n",
       "      <td>0</td>\n",
       "      <td>0</td>\n",
       "      <td>0</td>\n",
       "      <td>0</td>\n",
       "      <td>0</td>\n",
       "      <td>0</td>\n",
       "      <td>...</td>\n",
       "      <td>0</td>\n",
       "      <td>0</td>\n",
       "      <td>0</td>\n",
       "      <td>0</td>\n",
       "      <td>0</td>\n",
       "      <td>0</td>\n",
       "      <td>0</td>\n",
       "      <td>0</td>\n",
       "      <td>0</td>\n",
       "      <td>0</td>\n",
       "    </tr>\n",
       "    <tr>\n",
       "      <th>41998</th>\n",
       "      <td>0</td>\n",
       "      <td>0</td>\n",
       "      <td>0</td>\n",
       "      <td>0</td>\n",
       "      <td>0</td>\n",
       "      <td>0</td>\n",
       "      <td>0</td>\n",
       "      <td>0</td>\n",
       "      <td>0</td>\n",
       "      <td>0</td>\n",
       "      <td>...</td>\n",
       "      <td>0</td>\n",
       "      <td>0</td>\n",
       "      <td>0</td>\n",
       "      <td>0</td>\n",
       "      <td>0</td>\n",
       "      <td>0</td>\n",
       "      <td>0</td>\n",
       "      <td>0</td>\n",
       "      <td>0</td>\n",
       "      <td>0</td>\n",
       "    </tr>\n",
       "    <tr>\n",
       "      <th>41999</th>\n",
       "      <td>0</td>\n",
       "      <td>0</td>\n",
       "      <td>0</td>\n",
       "      <td>0</td>\n",
       "      <td>0</td>\n",
       "      <td>0</td>\n",
       "      <td>0</td>\n",
       "      <td>0</td>\n",
       "      <td>0</td>\n",
       "      <td>0</td>\n",
       "      <td>...</td>\n",
       "      <td>0</td>\n",
       "      <td>0</td>\n",
       "      <td>0</td>\n",
       "      <td>0</td>\n",
       "      <td>0</td>\n",
       "      <td>0</td>\n",
       "      <td>0</td>\n",
       "      <td>0</td>\n",
       "      <td>0</td>\n",
       "      <td>0</td>\n",
       "    </tr>\n",
       "  </tbody>\n",
       "</table>\n",
       "<p>42000 rows × 784 columns</p>\n",
       "</div>"
      ],
      "text/plain": [
       "       pixel0  pixel1  pixel2  pixel3  pixel4  pixel5  pixel6  pixel7  pixel8  \\\n",
       "0           0       0       0       0       0       0       0       0       0   \n",
       "1           0       0       0       0       0       0       0       0       0   \n",
       "2           0       0       0       0       0       0       0       0       0   \n",
       "3           0       0       0       0       0       0       0       0       0   \n",
       "4           0       0       0       0       0       0       0       0       0   \n",
       "...       ...     ...     ...     ...     ...     ...     ...     ...     ...   \n",
       "41995       0       0       0       0       0       0       0       0       0   \n",
       "41996       0       0       0       0       0       0       0       0       0   \n",
       "41997       0       0       0       0       0       0       0       0       0   \n",
       "41998       0       0       0       0       0       0       0       0       0   \n",
       "41999       0       0       0       0       0       0       0       0       0   \n",
       "\n",
       "       pixel9  ...  pixel774  pixel775  pixel776  pixel777  pixel778  \\\n",
       "0           0  ...         0         0         0         0         0   \n",
       "1           0  ...         0         0         0         0         0   \n",
       "2           0  ...         0         0         0         0         0   \n",
       "3           0  ...         0         0         0         0         0   \n",
       "4           0  ...         0         0         0         0         0   \n",
       "...       ...  ...       ...       ...       ...       ...       ...   \n",
       "41995       0  ...         0         0         0         0         0   \n",
       "41996       0  ...         0         0         0         0         0   \n",
       "41997       0  ...         0         0         0         0         0   \n",
       "41998       0  ...         0         0         0         0         0   \n",
       "41999       0  ...         0         0         0         0         0   \n",
       "\n",
       "       pixel779  pixel780  pixel781  pixel782  pixel783  \n",
       "0             0         0         0         0         0  \n",
       "1             0         0         0         0         0  \n",
       "2             0         0         0         0         0  \n",
       "3             0         0         0         0         0  \n",
       "4             0         0         0         0         0  \n",
       "...         ...       ...       ...       ...       ...  \n",
       "41995         0         0         0         0         0  \n",
       "41996         0         0         0         0         0  \n",
       "41997         0         0         0         0         0  \n",
       "41998         0         0         0         0         0  \n",
       "41999         0         0         0         0         0  \n",
       "\n",
       "[42000 rows x 784 columns]"
      ]
     },
     "execution_count": 4,
     "metadata": {},
     "output_type": "execute_result"
    }
   ],
   "source": [
    "x"
   ]
  },
  {
   "cell_type": "code",
   "execution_count": 5,
   "id": "5935c738",
   "metadata": {
    "execution": {
     "iopub.execute_input": "2022-01-21T04:46:37.958828Z",
     "iopub.status.busy": "2022-01-21T04:46:37.958195Z",
     "iopub.status.idle": "2022-01-21T04:46:38.795780Z",
     "shell.execute_reply": "2022-01-21T04:46:38.796340Z",
     "shell.execute_reply.started": "2022-01-21T04:39:36.214995Z"
    },
    "papermill": {
     "duration": 0.859202,
     "end_time": "2022-01-21T04:46:38.796536",
     "exception": false,
     "start_time": "2022-01-21T04:46:37.937334",
     "status": "completed"
    },
    "tags": []
   },
   "outputs": [],
   "source": [
    "from sklearn.model_selection import train_test_split"
   ]
  },
  {
   "cell_type": "code",
   "execution_count": 6,
   "id": "944bf2ba",
   "metadata": {
    "execution": {
     "iopub.execute_input": "2022-01-21T04:46:38.838865Z",
     "iopub.status.busy": "2022-01-21T04:46:38.836861Z",
     "iopub.status.idle": "2022-01-21T04:46:39.222334Z",
     "shell.execute_reply": "2022-01-21T04:46:39.221719Z",
     "shell.execute_reply.started": "2022-01-21T04:39:37.259187Z"
    },
    "papermill": {
     "duration": 0.407255,
     "end_time": "2022-01-21T04:46:39.222457",
     "exception": false,
     "start_time": "2022-01-21T04:46:38.815202",
     "status": "completed"
    },
    "tags": []
   },
   "outputs": [],
   "source": [
    "x_train, x_test, y_train, y_test = train_test_split(x, y, test_size = 0.2)\n",
    "x_train, x_val, y_train, y_val = train_test_split(x_train, y_train, test_size = 0.1)"
   ]
  },
  {
   "cell_type": "code",
   "execution_count": 7,
   "id": "1bd6d903",
   "metadata": {
    "execution": {
     "iopub.execute_input": "2022-01-21T04:46:39.263312Z",
     "iopub.status.busy": "2022-01-21T04:46:39.262730Z",
     "iopub.status.idle": "2022-01-21T04:46:39.267879Z",
     "shell.execute_reply": "2022-01-21T04:46:39.267494Z",
     "shell.execute_reply.started": "2022-01-21T04:39:37.768433Z"
    },
    "papermill": {
     "duration": 0.027723,
     "end_time": "2022-01-21T04:46:39.267999",
     "exception": false,
     "start_time": "2022-01-21T04:46:39.240276",
     "status": "completed"
    },
    "tags": []
   },
   "outputs": [
    {
     "data": {
      "text/plain": [
       "((30240, 784), (3360, 784), (8400, 784))"
      ]
     },
     "execution_count": 7,
     "metadata": {},
     "output_type": "execute_result"
    }
   ],
   "source": [
    "x_train.shape, x_val.shape, x_test.shape"
   ]
  },
  {
   "cell_type": "code",
   "execution_count": 8,
   "id": "6bbe0911",
   "metadata": {
    "execution": {
     "iopub.execute_input": "2022-01-21T04:46:39.310490Z",
     "iopub.status.busy": "2022-01-21T04:46:39.306863Z",
     "iopub.status.idle": "2022-01-21T04:46:40.789277Z",
     "shell.execute_reply": "2022-01-21T04:46:40.788667Z",
     "shell.execute_reply.started": "2022-01-21T04:39:37.781237Z"
    },
    "papermill": {
     "duration": 1.503415,
     "end_time": "2022-01-21T04:46:40.789401",
     "exception": false,
     "start_time": "2022-01-21T04:46:39.285986",
     "status": "completed"
    },
    "tags": []
   },
   "outputs": [],
   "source": [
    "import torch\n",
    "from torch.utils.data import Dataset, DataLoader\n",
    "\n",
    "\n",
    "class MNISTDataset(Dataset):\n",
    "    def __init__(self, x, y):\n",
    "        self.x = torch.Tensor(x.values.reshape(-1, 1, 28, 28))\n",
    "        self.y = torch.LongTensor(y.values)\n",
    "    def __len__(self):\n",
    "        return len(self.x)\n",
    "    def __getitem__(self, idx):\n",
    "        return self.x[idx], self.y[idx]\n",
    "    \n",
    "datasets = {}\n",
    "datasets[\"train\"] = MNISTDataset(x_train, y_train)\n",
    "datasets[\"val\"] = MNISTDataset(x_val, y_val)\n",
    "datasets[\"test\"] = MNISTDataset(x_test, y_test)"
   ]
  },
  {
   "cell_type": "code",
   "execution_count": null,
   "id": "f2afa4f4",
   "metadata": {
    "execution": {
     "iopub.execute_input": "2022-01-21T04:46:40.834798Z",
     "iopub.status.busy": "2022-01-21T04:46:40.827660Z",
     "iopub.status.idle": "2022-01-21T04:46:40.890909Z",
     "shell.execute_reply": "2022-01-21T04:46:40.891347Z",
     "shell.execute_reply.started": "2022-01-21T04:39:39.567093Z"
    },
    "papermill": {
     "duration": 0.083946,
     "end_time": "2022-01-21T04:46:40.891502",
     "exception": false,
     "start_time": "2022-01-21T04:46:40.807556",
     "status": "completed"
    },
    "tags": []
   },
   "outputs": [],
   "source": [
    "sample_x, sample_y = datasets[\"train\"][0]\n",
    "sample_x, sample_y"
   ]
  },
  {
   "cell_type": "code",
   "execution_count": 10,
   "id": "dfd505ff",
   "metadata": {
    "execution": {
     "iopub.execute_input": "2022-01-21T04:46:40.934282Z",
     "iopub.status.busy": "2022-01-21T04:46:40.933520Z",
     "iopub.status.idle": "2022-01-21T04:46:40.935880Z",
     "shell.execute_reply": "2022-01-21T04:46:40.935476Z",
     "shell.execute_reply.started": "2022-01-21T04:39:39.642973Z"
    },
    "papermill": {
     "duration": 0.025844,
     "end_time": "2022-01-21T04:46:40.935987",
     "exception": false,
     "start_time": "2022-01-21T04:46:40.910143",
     "status": "completed"
    },
    "tags": []
   },
   "outputs": [],
   "source": [
    "dataloaders = {}\n",
    "BATCH_SIZE = 64\n",
    "dataloaders[\"train\"] = DataLoader(datasets[\"train\"], batch_size=BATCH_SIZE, shuffle=True)\n",
    "dataloaders[\"val\"] = DataLoader(datasets[\"val\"], batch_size=BATCH_SIZE, shuffle=False)\n",
    "dataloaders[\"test\"] = DataLoader(datasets[\"test\"], batch_size=BATCH_SIZE, shuffle=False)"
   ]
  },
  {
   "cell_type": "code",
   "execution_count": 11,
   "id": "c90b78a3",
   "metadata": {
    "execution": {
     "iopub.execute_input": "2022-01-21T04:46:40.988748Z",
     "iopub.status.busy": "2022-01-21T04:46:40.976880Z",
     "iopub.status.idle": "2022-01-21T04:46:40.990736Z",
     "shell.execute_reply": "2022-01-21T04:46:40.991134Z",
     "shell.execute_reply.started": "2022-01-21T04:39:39.652946Z"
    },
    "papermill": {
     "duration": 0.037015,
     "end_time": "2022-01-21T04:46:40.991269",
     "exception": false,
     "start_time": "2022-01-21T04:46:40.954254",
     "status": "completed"
    },
    "tags": []
   },
   "outputs": [],
   "source": [
    "import torch\n",
    "import torch.nn as nn\n",
    "\n",
    "class MNISTModel(nn.Module):\n",
    "    def __init__(self):\n",
    "        super().__init__()\n",
    "        \n",
    "        in_channels = [1, 32, 64]\n",
    "        out_channels = [32, 64, 128]\n",
    "        kernel_sizes = [3, 3, 3]\n",
    "        strides = [1, 1, 1]\n",
    "        paddings = [1, 1, 1]\n",
    "        \n",
    "        self.layer0 = nn.Sequential(\n",
    "            nn.Conv2d(\n",
    "                in_channels = in_channels[0], \n",
    "                out_channels = out_channels[0], \n",
    "                kernel_size = kernel_sizes[0], \n",
    "                stride = strides[0], \n",
    "                padding = paddings[0]),\n",
    "            nn.Conv2d(\n",
    "                in_channels = out_channels[0], \n",
    "                out_channels = out_channels[0], \n",
    "                kernel_size = kernel_sizes[0], \n",
    "                stride = strides[0], \n",
    "                padding = paddings[0]),\n",
    "            nn.BatchNorm2d(out_channels[0]),\n",
    "            nn.ReLU(),\n",
    "            nn.MaxPool2d(kernel_size = 2),\n",
    "        )\n",
    "        \n",
    "        self.layer1 = nn.Sequential(\n",
    "            nn.Conv2d(\n",
    "                in_channels = in_channels[1], \n",
    "                out_channels = out_channels[1], \n",
    "                kernel_size = kernel_sizes[1], \n",
    "                stride = strides[1], \n",
    "                padding = paddings[1]),\n",
    "            nn.Conv2d(\n",
    "                in_channels = out_channels[1], \n",
    "                out_channels = out_channels[1], \n",
    "                kernel_size = kernel_sizes[1], \n",
    "                stride = strides[1], \n",
    "                padding = paddings[1]),\n",
    "            nn.BatchNorm2d(out_channels[1]),\n",
    "            nn.ReLU(),\n",
    "            nn.MaxPool2d(kernel_size = 2),\n",
    "        )\n",
    "        \n",
    "        self.layer2 = nn.Sequential(\n",
    "            nn.Conv2d(\n",
    "                in_channels = in_channels[2], \n",
    "                out_channels = out_channels[2], \n",
    "                kernel_size = kernel_sizes[2], \n",
    "                stride = strides[2], \n",
    "                padding = paddings[2]),\n",
    "            nn.Conv2d(\n",
    "                in_channels = out_channels[2], \n",
    "                out_channels = out_channels[2], \n",
    "                kernel_size = kernel_sizes[2], \n",
    "                stride = strides[2], \n",
    "                padding = paddings[2]),\n",
    "            nn.BatchNorm2d(out_channels[2]),\n",
    "            nn.ReLU(),\n",
    "        )\n",
    "        \n",
    "        self.linear0 = nn.Linear(128*7*7, 512)\n",
    "        self.linear1 = nn.Linear(512, 256)\n",
    "        self.linear2 = nn.Linear(256, 10)\n",
    "        \n",
    "        \n",
    "    def forward(self, x):\n",
    "        x = self.layer0(x)\n",
    "        x = self.layer1(x)\n",
    "        x = self.layer2(x)\n",
    "        x = x.reshape(-1, 128*7*7)\n",
    "        x = self.linear0(x)\n",
    "        x = self.linear1(x)\n",
    "        out = self.linear2(x)\n",
    "        return out"
   ]
  },
  {
   "cell_type": "code",
   "execution_count": 12,
   "id": "bcdba79a",
   "metadata": {
    "execution": {
     "iopub.execute_input": "2022-01-21T04:46:41.079964Z",
     "iopub.status.busy": "2022-01-21T04:46:41.030833Z",
     "iopub.status.idle": "2022-01-21T04:46:41.084270Z",
     "shell.execute_reply": "2022-01-21T04:46:41.083846Z",
     "shell.execute_reply.started": "2022-01-21T04:39:39.681150Z"
    },
    "papermill": {
     "duration": 0.07464,
     "end_time": "2022-01-21T04:46:41.084388",
     "exception": false,
     "start_time": "2022-01-21T04:46:41.009748",
     "status": "completed"
    },
    "tags": []
   },
   "outputs": [
    {
     "data": {
      "text/plain": [
       "device(type='cuda')"
      ]
     },
     "execution_count": 12,
     "metadata": {},
     "output_type": "execute_result"
    }
   ],
   "source": [
    "device = torch.device(\"cuda\" if torch.cuda.is_available() else \"cpu\")\n",
    "device"
   ]
  },
  {
   "cell_type": "code",
   "execution_count": 13,
   "id": "6fcf5659",
   "metadata": {
    "execution": {
     "iopub.execute_input": "2022-01-21T04:46:41.127061Z",
     "iopub.status.busy": "2022-01-21T04:46:41.126459Z",
     "iopub.status.idle": "2022-01-21T04:46:44.104652Z",
     "shell.execute_reply": "2022-01-21T04:46:44.105269Z",
     "shell.execute_reply.started": "2022-01-21T04:39:39.747585Z"
    },
    "papermill": {
     "duration": 3.002325,
     "end_time": "2022-01-21T04:46:44.105502",
     "exception": false,
     "start_time": "2022-01-21T04:46:41.103177",
     "status": "completed"
    },
    "tags": []
   },
   "outputs": [
    {
     "data": {
      "text/plain": [
       "MNISTModel(\n",
       "  (layer0): Sequential(\n",
       "    (0): Conv2d(1, 32, kernel_size=(3, 3), stride=(1, 1), padding=(1, 1))\n",
       "    (1): Conv2d(32, 32, kernel_size=(3, 3), stride=(1, 1), padding=(1, 1))\n",
       "    (2): BatchNorm2d(32, eps=1e-05, momentum=0.1, affine=True, track_running_stats=True)\n",
       "    (3): ReLU()\n",
       "    (4): MaxPool2d(kernel_size=2, stride=2, padding=0, dilation=1, ceil_mode=False)\n",
       "  )\n",
       "  (layer1): Sequential(\n",
       "    (0): Conv2d(32, 64, kernel_size=(3, 3), stride=(1, 1), padding=(1, 1))\n",
       "    (1): Conv2d(64, 64, kernel_size=(3, 3), stride=(1, 1), padding=(1, 1))\n",
       "    (2): BatchNorm2d(64, eps=1e-05, momentum=0.1, affine=True, track_running_stats=True)\n",
       "    (3): ReLU()\n",
       "    (4): MaxPool2d(kernel_size=2, stride=2, padding=0, dilation=1, ceil_mode=False)\n",
       "  )\n",
       "  (layer2): Sequential(\n",
       "    (0): Conv2d(64, 128, kernel_size=(3, 3), stride=(1, 1), padding=(1, 1))\n",
       "    (1): Conv2d(128, 128, kernel_size=(3, 3), stride=(1, 1), padding=(1, 1))\n",
       "    (2): BatchNorm2d(128, eps=1e-05, momentum=0.1, affine=True, track_running_stats=True)\n",
       "    (3): ReLU()\n",
       "  )\n",
       "  (linear0): Linear(in_features=6272, out_features=512, bias=True)\n",
       "  (linear1): Linear(in_features=512, out_features=256, bias=True)\n",
       "  (linear2): Linear(in_features=256, out_features=10, bias=True)\n",
       ")"
      ]
     },
     "execution_count": 13,
     "metadata": {},
     "output_type": "execute_result"
    }
   ],
   "source": [
    "model = MNISTModel()\n",
    "model.to(device)"
   ]
  },
  {
   "cell_type": "code",
   "execution_count": 14,
   "id": "368e7b5e",
   "metadata": {
    "execution": {
     "iopub.execute_input": "2022-01-21T04:46:44.148301Z",
     "iopub.status.busy": "2022-01-21T04:46:44.147760Z",
     "iopub.status.idle": "2022-01-21T04:46:44.167173Z",
     "shell.execute_reply": "2022-01-21T04:46:44.166660Z",
     "shell.execute_reply.started": "2022-01-21T04:39:43.153317Z"
    },
    "papermill": {
     "duration": 0.041836,
     "end_time": "2022-01-21T04:46:44.167325",
     "exception": false,
     "start_time": "2022-01-21T04:46:44.125489",
     "status": "completed"
    },
    "tags": []
   },
   "outputs": [],
   "source": [
    "sample_x, sample_y = next(iter(dataloaders[\"train\"]))"
   ]
  },
  {
   "cell_type": "code",
   "execution_count": 20,
   "id": "e0f4897a",
   "metadata": {
    "execution": {
     "iopub.execute_input": "2022-01-21T04:46:44.210313Z",
     "iopub.status.busy": "2022-01-21T04:46:44.209585Z",
     "iopub.status.idle": "2022-01-21T04:46:44.211983Z",
     "shell.execute_reply": "2022-01-21T04:46:44.211550Z",
     "shell.execute_reply.started": "2022-01-21T04:39:43.190007Z"
    },
    "papermill": {
     "duration": 0.0258,
     "end_time": "2022-01-21T04:46:44.212112",
     "exception": false,
     "start_time": "2022-01-21T04:46:44.186312",
     "status": "completed"
    },
    "tags": []
   },
   "outputs": [],
   "source": [
    "from torch import optim\n",
    "EPOCH = 2\n",
    "optimizer = optim.Adam(model.parameters(), lr = 1e-03)\n",
    "scheduler = optim.lr_scheduler.CosineAnnealingLR(optimizer, T_max=10, eta_min=0)\n",
    "loss_fn = nn.CrossEntropyLoss()"
   ]
  },
  {
   "cell_type": "code",
   "execution_count": 21,
   "id": "33c6fb59",
   "metadata": {
    "execution": {
     "iopub.execute_input": "2022-01-21T04:46:44.260190Z",
     "iopub.status.busy": "2022-01-21T04:46:44.253818Z",
     "iopub.status.idle": "2022-01-21T04:52:45.856594Z",
     "shell.execute_reply": "2022-01-21T04:52:45.857288Z"
    },
    "papermill": {
     "duration": 361.625786,
     "end_time": "2022-01-21T04:52:45.857486",
     "exception": false,
     "start_time": "2022-01-21T04:46:44.231700",
     "status": "completed"
    },
    "tags": []
   },
   "outputs": [
    {
     "name": "stdout",
     "output_type": "stream",
     "text": [
      "EPOCH 1\n"
     ]
    },
    {
     "name": "stderr",
     "output_type": "stream",
     "text": [
      "100%|██████████| 473/473 [00:43<00:00, 10.75it/s]\n",
      "100%|██████████| 53/53 [00:01<00:00, 39.24it/s]\n"
     ]
    },
    {
     "name": "stdout",
     "output_type": "stream",
     "text": [
      "train loss: 0.11612252498968026, val loss: 0.11720772627038213\n",
      "saving best model...\n",
      "lr:  0.0009755282581475768\n",
      "EPOCH 2\n"
     ]
    },
    {
     "name": "stderr",
     "output_type": "stream",
     "text": [
      "100%|██████████| 473/473 [00:46<00:00, 10.27it/s]\n",
      "100%|██████████| 53/53 [00:01<00:00, 38.52it/s]\n"
     ]
    },
    {
     "name": "stdout",
     "output_type": "stream",
     "text": [
      "train loss: 0.06837405225835017, val loss: 0.07479441874959278\n",
      "saving best model...\n",
      "lr:  0.0009045084971874736\n"
     ]
    }
   ],
   "source": [
    "from tqdm import tqdm\n",
    "\n",
    "\n",
    "min_val_loss = 10000000\n",
    "\n",
    "PATH = \"best_model.pth\"\n",
    "\n",
    "for e in range(1, EPOCH+1):\n",
    "    print(f\"EPOCH {e}\")\n",
    "    \n",
    "    model.train()\n",
    "    train_loss = 0\n",
    "    for X, y in tqdm(dataloaders[\"train\"]):\n",
    "        X, y = X.to(device), y.to(device)\n",
    "        y_pred = model(X)\n",
    "        \n",
    "        optimizer.zero_grad()\n",
    "        loss = loss_fn(y_pred, y)\n",
    "        loss.backward()\n",
    "        optimizer.step()\n",
    "        \n",
    "        train_loss += loss.item()\n",
    "    train_loss /= len(dataloaders[\"train\"])\n",
    "    \n",
    "    \n",
    "    with torch.no_grad():\n",
    "        model.eval()\n",
    "        val_loss = 0.0\n",
    "        for X, y in tqdm(dataloaders[\"val\"]):\n",
    "            X, y = X.to(device), y.to(device)\n",
    "            y_pred = model(X)\n",
    "            loss = loss_fn(y_pred, y)\n",
    "            val_loss += loss.item()\n",
    "        val_loss /= len(dataloaders[\"val\"])\n",
    "    \n",
    "    print(f\"train loss: {train_loss}, val loss: {val_loss}\")\n",
    "    \n",
    "    if val_loss < min_val_loss:\n",
    "        print(\"saving best model...\")\n",
    "        min_val_loss = val_loss\n",
    "        torch.save(model.state_dict(), PATH)\n",
    "        \n",
    "    scheduler.step()\n",
    "    print(\"lr: \", optimizer.param_groups[0]['lr'])"
   ]
  },
  {
   "cell_type": "code",
   "execution_count": 22,
   "id": "294bc01d",
   "metadata": {
    "execution": {
     "iopub.execute_input": "2022-01-21T04:52:47.938637Z",
     "iopub.status.busy": "2022-01-21T04:52:47.937812Z",
     "iopub.status.idle": "2022-01-21T04:52:47.986741Z",
     "shell.execute_reply": "2022-01-21T04:52:47.987177Z"
    },
    "papermill": {
     "duration": 1.09803,
     "end_time": "2022-01-21T04:52:47.987322",
     "exception": false,
     "start_time": "2022-01-21T04:52:46.889292",
     "status": "completed"
    },
    "tags": []
   },
   "outputs": [
    {
     "data": {
      "text/plain": [
       "MNISTModel(\n",
       "  (layer0): Sequential(\n",
       "    (0): Conv2d(1, 32, kernel_size=(3, 3), stride=(1, 1), padding=(1, 1))\n",
       "    (1): Conv2d(32, 32, kernel_size=(3, 3), stride=(1, 1), padding=(1, 1))\n",
       "    (2): BatchNorm2d(32, eps=1e-05, momentum=0.1, affine=True, track_running_stats=True)\n",
       "    (3): ReLU()\n",
       "    (4): MaxPool2d(kernel_size=2, stride=2, padding=0, dilation=1, ceil_mode=False)\n",
       "  )\n",
       "  (layer1): Sequential(\n",
       "    (0): Conv2d(32, 64, kernel_size=(3, 3), stride=(1, 1), padding=(1, 1))\n",
       "    (1): Conv2d(64, 64, kernel_size=(3, 3), stride=(1, 1), padding=(1, 1))\n",
       "    (2): BatchNorm2d(64, eps=1e-05, momentum=0.1, affine=True, track_running_stats=True)\n",
       "    (3): ReLU()\n",
       "    (4): MaxPool2d(kernel_size=2, stride=2, padding=0, dilation=1, ceil_mode=False)\n",
       "  )\n",
       "  (layer2): Sequential(\n",
       "    (0): Conv2d(64, 128, kernel_size=(3, 3), stride=(1, 1), padding=(1, 1))\n",
       "    (1): Conv2d(128, 128, kernel_size=(3, 3), stride=(1, 1), padding=(1, 1))\n",
       "    (2): BatchNorm2d(128, eps=1e-05, momentum=0.1, affine=True, track_running_stats=True)\n",
       "    (3): ReLU()\n",
       "  )\n",
       "  (linear0): Linear(in_features=6272, out_features=512, bias=True)\n",
       "  (linear1): Linear(in_features=512, out_features=256, bias=True)\n",
       "  (linear2): Linear(in_features=256, out_features=10, bias=True)\n",
       ")"
      ]
     },
     "execution_count": 22,
     "metadata": {},
     "output_type": "execute_result"
    }
   ],
   "source": [
    "best_model = MNISTModel()\n",
    "best_model.load_state_dict(torch.load(PATH))\n",
    "best_model.to(device)"
   ]
  },
  {
   "cell_type": "code",
   "execution_count": 24,
   "id": "6956c916",
   "metadata": {
    "execution": {
     "iopub.execute_input": "2022-01-21T04:52:50.866601Z",
     "iopub.status.busy": "2022-01-21T04:52:50.865772Z",
     "iopub.status.idle": "2022-01-21T04:52:51.107995Z",
     "shell.execute_reply": "2022-01-21T04:52:51.108587Z"
    },
    "papermill": {
     "duration": 2.057601,
     "end_time": "2022-01-21T04:52:51.108775",
     "exception": false,
     "start_time": "2022-01-21T04:52:49.051174",
     "status": "completed"
    },
    "tags": []
   },
   "outputs": [
    {
     "name": "stderr",
     "output_type": "stream",
     "text": [
      "100%|██████████| 132/132 [00:03<00:00, 38.90it/s]"
     ]
    },
    {
     "name": "stdout",
     "output_type": "stream",
     "text": [
      "tensor(0.9805, device='cuda:0')\n"
     ]
    },
    {
     "name": "stderr",
     "output_type": "stream",
     "text": [
      "\n"
     ]
    }
   ],
   "source": [
    "best_model.eval()\n",
    "\n",
    "with torch.no_grad():\n",
    "    correct = 0\n",
    "    total = 0\n",
    "    for X, y in tqdm(dataloaders[\"test\"]):\n",
    "        X, y = X.to(device), y.to(device)\n",
    "        y_pred = best_model(X)\n",
    "        y_pred = torch.argmax(y_pred, dim = 1)\n",
    "        \n",
    "        correct += torch.sum(y_pred == y)\n",
    "        total += len(y)\n",
    "    print(correct/total)"
   ]
  },
  {
   "cell_type": "code",
   "execution_count": 26,
   "id": "316e7e82",
   "metadata": {
    "execution": {
     "iopub.execute_input": "2022-01-21T04:52:53.260147Z",
     "iopub.status.busy": "2022-01-21T04:52:53.259486Z",
     "iopub.status.idle": "2022-01-21T04:52:55.298703Z",
     "shell.execute_reply": "2022-01-21T04:52:55.298234Z"
    },
    "papermill": {
     "duration": 3.143015,
     "end_time": "2022-01-21T04:52:55.298831",
     "exception": false,
     "start_time": "2022-01-21T04:52:52.155816",
     "status": "completed"
    },
    "tags": []
   },
   "outputs": [],
   "source": [
    "X_final = pd.read_csv(\"digit-recognizer/test.csv\")"
   ]
  },
  {
   "cell_type": "code",
   "execution_count": 27,
   "id": "23d54870",
   "metadata": {
    "execution": {
     "iopub.execute_input": "2022-01-21T04:52:57.356164Z",
     "iopub.status.busy": "2022-01-21T04:52:57.355256Z",
     "iopub.status.idle": "2022-01-21T04:52:57.439821Z",
     "shell.execute_reply": "2022-01-21T04:52:57.439372Z"
    },
    "papermill": {
     "duration": 1.116986,
     "end_time": "2022-01-21T04:52:57.439945",
     "exception": false,
     "start_time": "2022-01-21T04:52:56.322959",
     "status": "completed"
    },
    "tags": []
   },
   "outputs": [],
   "source": [
    "X_final = torch.Tensor(X_final.values.reshape(-1, 1, 28, 28)).to(device)"
   ]
  },
  {
   "cell_type": "code",
   "execution_count": 28,
   "id": "c79e3848",
   "metadata": {
    "execution": {
     "iopub.execute_input": "2022-01-21T04:52:59.525895Z",
     "iopub.status.busy": "2022-01-21T04:52:59.525023Z",
     "iopub.status.idle": "2022-01-21T04:52:59.567649Z",
     "shell.execute_reply": "2022-01-21T04:52:59.567152Z"
    },
    "papermill": {
     "duration": 1.106334,
     "end_time": "2022-01-21T04:52:59.567806",
     "exception": false,
     "start_time": "2022-01-21T04:52:58.461472",
     "status": "completed"
    },
    "tags": []
   },
   "outputs": [],
   "source": [
    "y_final = []\n",
    "\n",
    "for i in range(0, len(X_final), 1000):\n",
    "    if i + 1000 >= len(X_final):\n",
    "        small_y_final = torch.argmax(best_model(X_final[i:]), dim = 1)\n",
    "    else:\n",
    "        small_y_final = torch.argmax(best_model(X_final[i:i+1000]), dim = 1)\n",
    "    y_final.append(small_y_final)\n",
    "    \n",
    "y_final = torch.cat(y_final)"
   ]
  },
  {
   "cell_type": "code",
   "execution_count": 33,
   "id": "997659e9",
   "metadata": {},
   "outputs": [
    {
     "data": {
      "text/plain": [
       "tensor([2, 0, 9,  ..., 3, 9, 2], device='cuda:0')"
      ]
     },
     "execution_count": 33,
     "metadata": {},
     "output_type": "execute_result"
    }
   ],
   "source": [
    "y_final"
   ]
  },
  {
   "cell_type": "code",
   "execution_count": 34,
   "id": "b8343c15",
   "metadata": {
    "execution": {
     "iopub.execute_input": "2022-01-21T04:53:01.878372Z",
     "iopub.status.busy": "2022-01-21T04:53:01.877805Z",
     "iopub.status.idle": "2022-01-21T04:53:01.893095Z",
     "shell.execute_reply": "2022-01-21T04:53:01.892656Z"
    },
    "papermill": {
     "duration": 1.194214,
     "end_time": "2022-01-21T04:53:01.893220",
     "exception": false,
     "start_time": "2022-01-21T04:53:00.699006",
     "status": "completed"
    },
    "tags": []
   },
   "outputs": [],
   "source": [
    "df_submission = pd.read_csv(\"digit-recognizer/sample_submission.csv\")"
   ]
  },
  {
   "cell_type": "code",
   "execution_count": 35,
   "id": "438c1ee5",
   "metadata": {
    "execution": {
     "iopub.execute_input": "2022-01-21T04:53:03.995905Z",
     "iopub.status.busy": "2022-01-21T04:53:03.994322Z",
     "iopub.status.idle": "2022-01-21T04:53:03.996497Z",
     "shell.execute_reply": "2022-01-21T04:53:03.996885Z"
    },
    "papermill": {
     "duration": 1.038461,
     "end_time": "2022-01-21T04:53:03.997013",
     "exception": false,
     "start_time": "2022-01-21T04:53:02.958552",
     "status": "completed"
    },
    "tags": []
   },
   "outputs": [],
   "source": [
    "df_submission[\"Label\"] = y_final.to(\"cpu\")"
   ]
  },
  {
   "cell_type": "code",
   "execution_count": 36,
   "id": "b9f20d4b",
   "metadata": {
    "execution": {
     "iopub.execute_input": "2022-01-21T04:53:06.067765Z",
     "iopub.status.busy": "2022-01-21T04:53:06.066891Z",
     "iopub.status.idle": "2022-01-21T04:53:06.113402Z",
     "shell.execute_reply": "2022-01-21T04:53:06.112941Z"
    },
    "papermill": {
     "duration": 1.076665,
     "end_time": "2022-01-21T04:53:06.113534",
     "exception": false,
     "start_time": "2022-01-21T04:53:05.036869",
     "status": "completed"
    },
    "tags": []
   },
   "outputs": [],
   "source": [
    "df_submission.to_csv(\"submission4.csv\", index = False)"
   ]
  },
  {
   "cell_type": "code",
   "execution_count": 37,
   "id": "5ac96c30",
   "metadata": {
    "execution": {
     "iopub.execute_input": "2022-01-21T04:53:08.179595Z",
     "iopub.status.busy": "2022-01-21T04:53:08.178387Z",
     "iopub.status.idle": "2022-01-21T04:53:08.182187Z",
     "shell.execute_reply": "2022-01-21T04:53:08.182744Z"
    },
    "papermill": {
     "duration": 1.042348,
     "end_time": "2022-01-21T04:53:08.182924",
     "exception": false,
     "start_time": "2022-01-21T04:53:07.140576",
     "status": "completed"
    },
    "tags": []
   },
   "outputs": [
    {
     "data": {
      "text/html": [
       "<div>\n",
       "<style scoped>\n",
       "    .dataframe tbody tr th:only-of-type {\n",
       "        vertical-align: middle;\n",
       "    }\n",
       "\n",
       "    .dataframe tbody tr th {\n",
       "        vertical-align: top;\n",
       "    }\n",
       "\n",
       "    .dataframe thead th {\n",
       "        text-align: right;\n",
       "    }\n",
       "</style>\n",
       "<table border=\"1\" class=\"dataframe\">\n",
       "  <thead>\n",
       "    <tr style=\"text-align: right;\">\n",
       "      <th></th>\n",
       "      <th>ImageId</th>\n",
       "      <th>Label</th>\n",
       "    </tr>\n",
       "  </thead>\n",
       "  <tbody>\n",
       "    <tr>\n",
       "      <th>0</th>\n",
       "      <td>1</td>\n",
       "      <td>2</td>\n",
       "    </tr>\n",
       "    <tr>\n",
       "      <th>1</th>\n",
       "      <td>2</td>\n",
       "      <td>0</td>\n",
       "    </tr>\n",
       "    <tr>\n",
       "      <th>2</th>\n",
       "      <td>3</td>\n",
       "      <td>9</td>\n",
       "    </tr>\n",
       "    <tr>\n",
       "      <th>3</th>\n",
       "      <td>4</td>\n",
       "      <td>9</td>\n",
       "    </tr>\n",
       "    <tr>\n",
       "      <th>4</th>\n",
       "      <td>5</td>\n",
       "      <td>3</td>\n",
       "    </tr>\n",
       "    <tr>\n",
       "      <th>...</th>\n",
       "      <td>...</td>\n",
       "      <td>...</td>\n",
       "    </tr>\n",
       "    <tr>\n",
       "      <th>27995</th>\n",
       "      <td>27996</td>\n",
       "      <td>9</td>\n",
       "    </tr>\n",
       "    <tr>\n",
       "      <th>27996</th>\n",
       "      <td>27997</td>\n",
       "      <td>7</td>\n",
       "    </tr>\n",
       "    <tr>\n",
       "      <th>27997</th>\n",
       "      <td>27998</td>\n",
       "      <td>3</td>\n",
       "    </tr>\n",
       "    <tr>\n",
       "      <th>27998</th>\n",
       "      <td>27999</td>\n",
       "      <td>9</td>\n",
       "    </tr>\n",
       "    <tr>\n",
       "      <th>27999</th>\n",
       "      <td>28000</td>\n",
       "      <td>2</td>\n",
       "    </tr>\n",
       "  </tbody>\n",
       "</table>\n",
       "<p>28000 rows × 2 columns</p>\n",
       "</div>"
      ],
      "text/plain": [
       "       ImageId  Label\n",
       "0            1      2\n",
       "1            2      0\n",
       "2            3      9\n",
       "3            4      9\n",
       "4            5      3\n",
       "...        ...    ...\n",
       "27995    27996      9\n",
       "27996    27997      7\n",
       "27997    27998      3\n",
       "27998    27999      9\n",
       "27999    28000      2\n",
       "\n",
       "[28000 rows x 2 columns]"
      ]
     },
     "execution_count": 37,
     "metadata": {},
     "output_type": "execute_result"
    }
   ],
   "source": [
    "df_submission"
   ]
  },
  {
   "cell_type": "code",
   "execution_count": null,
   "id": "c70fa38d",
   "metadata": {
    "papermill": {
     "duration": 1.074648,
     "end_time": "2022-01-21T04:53:10.288786",
     "exception": false,
     "start_time": "2022-01-21T04:53:09.214138",
     "status": "completed"
    },
    "tags": []
   },
   "outputs": [],
   "source": []
  }
 ],
 "metadata": {
  "kernelspec": {
   "display_name": "Python 3",
   "language": "python",
   "name": "python3"
  },
  "language_info": {
   "codemirror_mode": {
    "name": "ipython",
    "version": 3
   },
   "file_extension": ".py",
   "mimetype": "text/x-python",
   "name": "python",
   "nbconvert_exporter": "python",
   "pygments_lexer": "ipython3",
   "version": "3.8.10"
  },
  "papermill": {
   "default_parameters": {},
   "duration": 407.857039,
   "end_time": "2022-01-21T04:53:13.728764",
   "environment_variables": {},
   "exception": null,
   "input_path": "__notebook__.ipynb",
   "output_path": "__notebook__.ipynb",
   "parameters": {},
   "start_time": "2022-01-21T04:46:25.871725",
   "version": "2.3.3"
  }
 },
 "nbformat": 4,
 "nbformat_minor": 5
}
