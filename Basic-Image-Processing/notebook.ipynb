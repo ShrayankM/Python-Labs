{
 "cells": [
  {
   "cell_type": "markdown",
   "metadata": {},
   "source": [
    "### Packages"
   ]
  },
  {
   "cell_type": "code",
   "execution_count": 1,
   "metadata": {},
   "outputs": [],
   "source": [
    "from PIL import Image\n",
    "import cv2\n",
    "import numpy as np\n",
    "\n",
    "import matplotlib.pyplot as plt"
   ]
  },
  {
   "cell_type": "markdown",
   "metadata": {},
   "source": [
    "### Gradient"
   ]
  },
  {
   "cell_type": "code",
   "execution_count": 2,
   "metadata": {},
   "outputs": [],
   "source": [
    "\n",
    "#* Read Image in GrayScale\n",
    "img_gray = cv2.imread('images/lena.jpg',0) \n",
    "h, w = img_gray.shape[:2]\n",
    "\n",
    "grad_img = np.asarray(img_gray)"
   ]
  },
  {
   "cell_type": "code",
   "execution_count": 3,
   "metadata": {},
   "outputs": [],
   "source": [
    "for i in range(0, h):\n",
    "    for j in range(0, w - 1):\n",
    "        a = min(img_gray[i][j + 1], img_gray[i][j])\n",
    "        if a == img_gray[i][j + 1]:\n",
    "            temp_arr = img_gray[i][j] - img_gray[i][j + 1]\n",
    "        else:\n",
    "            temp_arr = img_gray[i][j + 1] - img_gray[i][j]\n",
    "            grad_img[i, j] = temp_arr"
   ]
  },
  {
   "cell_type": "code",
   "execution_count": 4,
   "metadata": {},
   "outputs": [],
   "source": [
    "img = Image.fromarray(grad_img)                              \n",
    "img.save(\"images/gradient.jpg\")"
   ]
  },
  {
   "cell_type": "markdown",
   "metadata": {},
   "source": [
    "### Image Negative"
   ]
  },
  {
   "cell_type": "code",
   "execution_count": 5,
   "metadata": {},
   "outputs": [],
   "source": [
    "S = 255\n",
    "rgb_path = 'images/rgb.jpg'\n",
    "binary_path = 'images/binary.jpg'\n",
    "gray_path = 'images/grayscale.png'"
   ]
  },
  {
   "cell_type": "markdown",
   "metadata": {},
   "source": [
    "#### RGB Image"
   ]
  },
  {
   "cell_type": "code",
   "execution_count": 6,
   "metadata": {},
   "outputs": [],
   "source": [
    "img = cv2.imread(rgb_path, cv2.IMREAD_COLOR)\n",
    "B, G, R = cv2.split(img)"
   ]
  },
  {
   "cell_type": "code",
   "execution_count": 7,
   "metadata": {},
   "outputs": [
    {
     "data": {
      "text/plain": [
       "True"
      ]
     },
     "execution_count": 7,
     "metadata": {},
     "output_type": "execute_result"
    }
   ],
   "source": [
    "B[:] = [S - x for x in B]     #? Inverting Blue Color\n",
    "G[:] = [S - x for x in G]     #* Inverting Green Color    \n",
    "R[:] = [S - x for x in R]     #! Inverting Red Color\n",
    "\n",
    "my_img = cv2.merge((B, G, R)) \n",
    "cv2.imwrite('images/rgb_inverted.png', my_img)"
   ]
  },
  {
   "cell_type": "markdown",
   "metadata": {},
   "source": [
    "#### Binary and Grayscale Image"
   ]
  },
  {
   "cell_type": "code",
   "execution_count": 8,
   "metadata": {},
   "outputs": [
    {
     "data": {
      "text/plain": [
       "True"
      ]
     },
     "execution_count": 8,
     "metadata": {},
     "output_type": "execute_result"
    }
   ],
   "source": [
    "img = cv2.imread(binary_path ,cv2.IMREAD_GRAYSCALE) \n",
    "my_img = np.array([S-x for x in img])\n",
    "cv2.imwrite('images/binary_inverted.png', my_img)"
   ]
  },
  {
   "cell_type": "code",
   "execution_count": 9,
   "metadata": {},
   "outputs": [
    {
     "data": {
      "text/plain": [
       "True"
      ]
     },
     "execution_count": 9,
     "metadata": {},
     "output_type": "execute_result"
    }
   ],
   "source": [
    "img = cv2.imread(gray_path ,cv2.IMREAD_GRAYSCALE) \n",
    "my_img = np.array([S-x for x in img])\n",
    "cv2.imwrite('images/gray_inverted.png', my_img)"
   ]
  },
  {
   "cell_type": "markdown",
   "metadata": {},
   "source": [
    "### Segmentation"
   ]
  },
  {
   "cell_type": "code",
   "execution_count": 10,
   "metadata": {},
   "outputs": [],
   "source": [
    "\n",
    "#* Loading the image in RGB\n",
    "img = cv2.imread(\"images/seg_image.png\", 0)"
   ]
  },
  {
   "cell_type": "code",
   "execution_count": 11,
   "metadata": {},
   "outputs": [],
   "source": [
    "\n",
    "#* Applying Gaussian blur with kernel size 7 to remove unwanted noise\n",
    "#* Usually done during downsampling to remove high frequency noise\n",
    "blurred_image = cv2.GaussianBlur(img, (7, 7), 0)"
   ]
  },
  {
   "cell_type": "code",
   "execution_count": 12,
   "metadata": {},
   "outputs": [],
   "source": [
    "\n",
    "#* Applying Otsu's thresholding to binarize the image\n",
    "retval, binarized_image = cv2.threshold(blurred_image, 40, 255, cv2.THRESH_BINARY)"
   ]
  },
  {
   "cell_type": "code",
   "execution_count": 13,
   "metadata": {},
   "outputs": [],
   "source": [
    "\n",
    "#* Applying Closing to fill in the holes\n",
    "filter = np.ones((3, 3), np.uint8)\n",
    "closed_image = cv2.morphologyEx(binarized_image, cv2.MORPH_CLOSE, filter)"
   ]
  },
  {
   "cell_type": "code",
   "execution_count": 14,
   "metadata": {},
   "outputs": [],
   "source": [
    "\n",
    "#* Using connected components to label the image\n",
    "retval, markers = cv2.connectedComponents(closed_image)"
   ]
  },
  {
   "cell_type": "code",
   "execution_count": 15,
   "metadata": {},
   "outputs": [],
   "source": [
    "\n",
    "#* Mapping the component labels to hue val\n",
    "label_hue = np.uint8(120*markers/np.max(markers))\n",
    "blank_ch = 255 * np.ones_like(label_hue)\n",
    "labeled_image = cv2.merge([label_hue, blank_ch, blank_ch])"
   ]
  },
  {
   "cell_type": "code",
   "execution_count": 25,
   "metadata": {},
   "outputs": [],
   "source": [
    "\n",
    "#* changing from HSV to RGB again to show\n",
    "labeled_image = cv2.cvtColor(labeled_image, cv2.COLOR_HSV2BGR)"
   ]
  },
  {
   "cell_type": "code",
   "execution_count": 30,
   "metadata": {},
   "outputs": [],
   "source": [
    "\n",
    "#* background label set to black\n",
    "labeled_image[label_hue == 0] = 0"
   ]
  },
  {
   "cell_type": "code",
   "execution_count": 31,
   "metadata": {},
   "outputs": [],
   "source": [
    "\n",
    "#* getting the unique colors in the image\n",
    "unique_colors = np.unique(labeled_image.reshape(-1, labeled_image.shape[2]), axis = 0)"
   ]
  },
  {
   "cell_type": "code",
   "execution_count": 33,
   "metadata": {},
   "outputs": [
    {
     "name": "stdout",
     "output_type": "stream",
     "text": [
      "Colors available in labeled image:\n",
      "1=> B:0    G:0   R:0 \n",
      "2=> B:0    G:255   R:0 \n",
      "3=> B:255    G:0   R:0 \n"
     ]
    }
   ],
   "source": [
    "print (\"Colors available in labeled image:\")\n",
    "for x in range(unique_colors.shape[0]):\n",
    "    print (str(x+1)+\"=> B:\"+str(unique_colors[x,0])+\"    G:\"+str(unique_colors[x,1])+\"   R:\"+str(unique_colors[x,2])+\" \")"
   ]
  },
  {
   "cell_type": "code",
   "execution_count": 34,
   "metadata": {},
   "outputs": [],
   "source": [
    "r = 0\n",
    "b = 255\n",
    "g = 255"
   ]
  },
  {
   "cell_type": "code",
   "execution_count": 35,
   "metadata": {},
   "outputs": [],
   "source": [
    "\n",
    "#* making an output image\n",
    "output_image = np.zeros_like(labeled_image)\n",
    "\n",
    "#* getting the object of user input color\n",
    "for x in range(labeled_image.shape[0]):\n",
    "    for y in range(labeled_image.shape[1]):\n",
    "        if (labeled_image[x,y,0] == int(r) and labeled_image[x,y,1] == int(g) and labeled_image[x,y,2] == int(b)):\n",
    "            output_image[x,y,0:3] = labeled_image[x,y,0:3]"
   ]
  },
  {
   "cell_type": "code",
   "execution_count": 36,
   "metadata": {},
   "outputs": [
    {
     "data": {
      "text/plain": [
       "True"
      ]
     },
     "execution_count": 36,
     "metadata": {},
     "output_type": "execute_result"
    }
   ],
   "source": [
    "cv2.imwrite('images/segmentated.png', labeled_image)"
   ]
  },
  {
   "cell_type": "markdown",
   "metadata": {},
   "source": [
    "### Centroid"
   ]
  },
  {
   "cell_type": "code",
   "execution_count": 37,
   "metadata": {},
   "outputs": [],
   "source": [
    "img = cv2.imread(\"images/Signature.png\", 0)\n",
    "ret,binary = cv2.threshold(img, 10, 255, cv2.THRESH_BINARY)"
   ]
  },
  {
   "cell_type": "code",
   "execution_count": 39,
   "metadata": {},
   "outputs": [],
   "source": [
    "def findBB(im):\n",
    "    h, w = im.shape[0], im.shape[1] \n",
    "    left, top = w, h\n",
    "    right, bottom = 0, 0\n",
    "    \n",
    "    for x in range(h):\n",
    "        for y in range(w):\n",
    "            if (im[x,y] == 0):\n",
    "                right = x if x > right else right\n",
    "                left = x if x < left else left\n",
    "                bottom = y if y > bottom else bottom\n",
    "                top = y if y < top else top\n",
    "                \n",
    "    return (left, right, top, bottom)"
   ]
  },
  {
   "cell_type": "code",
   "execution_count": 41,
   "metadata": {},
   "outputs": [],
   "source": [
    "def findCentroid(im):\n",
    "    h, w = im.shape[0], im.shape[1]\n",
    "    cx, cy, n = 0, 0, 0\n",
    "    for x in range(h):\n",
    "        for y in range(w):\n",
    "            if (im[x,y] == 0):\n",
    "                cx += x\n",
    "                cy += y\n",
    "                n += 1\n",
    "    cx /= n\n",
    "    cy /= n\n",
    "    return (cx, cy)"
   ]
  },
  {
   "cell_type": "code",
   "execution_count": 42,
   "metadata": {},
   "outputs": [],
   "source": [
    "def divideImgIntoFour(im, cent):\n",
    "    h, w = im.shape[0], im.shape[1]\n",
    "    cx, cy = cent\n",
    "    cx, cy = int(cx), int(cy)\n",
    "    img1 = im[0:cx, 0:cy]\n",
    "    img2 = im[0:cx, cy:w]\n",
    "    img3 = im[cx:h, 0:cy]\n",
    "    img4 = im[cx:h, cy:w]\n",
    "    return [img1, img2, img3, img4]"
   ]
  },
  {
   "cell_type": "code",
   "execution_count": 45,
   "metadata": {},
   "outputs": [],
   "source": [
    "def calculateTransitions(im):\n",
    "    h, w = im.shape[0], im.shape[1]\n",
    "    prev = im[0,0]\n",
    "    n = 0\n",
    "    for x in range(1, h):\n",
    "        for y in range(1, w):\n",
    "            curr = im[x,y]\n",
    "            # check if the is black to white transition\n",
    "            n = n+1 if curr == 255 and prev == 0 else n\n",
    "            prev = curr\n",
    "    return n"
   ]
  },
  {
   "cell_type": "code",
   "execution_count": 47,
   "metadata": {},
   "outputs": [
    {
     "name": "stdout",
     "output_type": "stream",
     "text": [
      "Bounding Box: (133, 440, 11, 566)\n",
      "Coordinates of centroid: (129.08519840309702, 299.19722356641665)\n"
     ]
    }
   ],
   "source": [
    "boundingBox = findBB(binary)\n",
    "cropImg = binary[boundingBox[0]:boundingBox[1], boundingBox[2]:boundingBox[3]]\n",
    "centroid = findCentroid(cropImg)\n",
    "segments = divideImgIntoFour(cropImg, centroid)\n",
    "# transitions = [calculateTransitions(seg) for seg in segments]\n",
    "\n",
    "print (\"Bounding Box:\", boundingBox)\n",
    "print (\"Coordinates of centroid:\", centroid)\n",
    "# print (\"Black to white transitions (4 segments):\", transitions)"
   ]
  },
  {
   "cell_type": "code",
   "execution_count": 48,
   "metadata": {},
   "outputs": [
    {
     "data": {
      "text/plain": [
       "True"
      ]
     },
     "execution_count": 48,
     "metadata": {},
     "output_type": "execute_result"
    }
   ],
   "source": [
    "# cv2.imshow(\"TopLeft\", segments[0])\n",
    "cv2.imwrite(\"images/TopLeft.png\", segments[0])\n",
    "# cv2.imshow(\"TopRight\", segments[1])\n",
    "cv2.imwrite(\"images/TopRight.png\", segments[1])\n",
    "# cv2.imshow(\"BottomLeft\", segments[2])\n",
    "cv2.imwrite(\"images/BottomLeft.png\", segments[2])\n",
    "# cv2.imshow(\"BottomRight\", segments[3])\n",
    "cv2.imwrite(\"images/BottomRight.png\", segments[3])"
   ]
  },
  {
   "cell_type": "code",
   "execution_count": null,
   "metadata": {},
   "outputs": [],
   "source": []
  }
 ],
 "metadata": {
  "interpreter": {
   "hash": "781d960e33ea3717bf41c72d1adbdc6309a2d13c5a5c6a8c60e9bbc18a152896"
  },
  "kernelspec": {
   "display_name": "Python 3.8.10 64-bit ('env': venv)",
   "language": "python",
   "name": "python3"
  },
  "language_info": {
   "codemirror_mode": {
    "name": "ipython",
    "version": 3
   },
   "file_extension": ".py",
   "mimetype": "text/x-python",
   "name": "python",
   "nbconvert_exporter": "python",
   "pygments_lexer": "ipython3",
   "version": "3.8.10"
  },
  "orig_nbformat": 4
 },
 "nbformat": 4,
 "nbformat_minor": 2
}
