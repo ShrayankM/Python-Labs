{
  "cells": [
    {
      "cell_type": "markdown",
      "metadata": {
        "colab_type": "text",
        "id": "view-in-github"
      },
      "source": [
        "<a href=\"https://colab.research.google.com/github/ShrayankM/FoundationsOFDataScience/blob/master/BasicsOfPython.ipynb\" target=\"_parent\"><img src=\"https://colab.research.google.com/assets/colab-badge.svg\" alt=\"Open In Colab\"/></a>"
      ]
    },
    {
      "cell_type": "markdown",
      "metadata": {
        "colab_type": "text",
        "id": "lrIB9Nvf8Xqx"
      },
      "source": [
        "# Variables\n",
        "\n",
        "Variable names are labels to store values.\n",
        "Same values are stored at same location and variable are used as address holders.\n",
        "\n"
      ]
    },
    {
      "cell_type": "code",
      "execution_count": 7,
      "metadata": {
        "colab": {
          "base_uri": "https://localhost:8080/",
          "height": 54
        },
        "colab_type": "code",
        "id": "1lepijaw8RhH",
        "outputId": "664c4a77-aea6-48bc-c63c-ba604f33e4b8"
      },
      "outputs": [
        {
          "name": "stdout",
          "output_type": "stream",
          "text": [
            "140245900720792 <class 'str'> Welcome_to_Python\n",
            "140245900720792 <class 'str'> Welcome_to_Python\n"
          ]
        }
      ],
      "source": [
        "message_one = \"Welcome_to_Python\"\n",
        "message_two = \"Welcome_to_Python\"\n",
        "\n",
        "print(id(message_one),type(message_one),message_one)\n",
        "print(id(message_two),type(message_two),message_two)"
      ]
    },
    {
      "cell_type": "code",
      "execution_count": 8,
      "metadata": {
        "colab": {
          "base_uri": "https://localhost:8080/",
          "height": 35
        },
        "colab_type": "code",
        "id": "pfPlUE3ZAyWm",
        "outputId": "23c28b8b-df59-46cc-9b2e-c0fd6f3d2b31"
      },
      "outputs": [
        {
          "name": "stdout",
          "output_type": "stream",
          "text": [
            "2 3 4\n"
          ]
        }
      ],
      "source": [
        "x,y,z = 2,3,4 #multiple varible assignment\n",
        "print(x,y,z)"
      ]
    },
    {
      "cell_type": "markdown",
      "metadata": {
        "colab_type": "text",
        "id": "UZ9_ck3l9S3L"
      },
      "source": [
        "# Strings and String Functions"
      ]
    },
    {
      "cell_type": "code",
      "execution_count": 9,
      "metadata": {
        "colab": {
          "base_uri": "https://localhost:8080/",
          "height": 35
        },
        "colab_type": "code",
        "id": "sR68x7V99Rxq",
        "outputId": "c49bb2fd-9519-4621-ee7c-83c98e18588f"
      },
      "outputs": [
        {
          "name": "stdout",
          "output_type": "stream",
          "text": [
            "Python For Data Science\n"
          ]
        }
      ],
      "source": [
        "message = \"Python for data science\"\n",
        "print(message.title()) #capitalizes the first alphabet of every word"
      ]
    },
    {
      "cell_type": "code",
      "execution_count": 10,
      "metadata": {
        "colab": {
          "base_uri": "https://localhost:8080/",
          "height": 54
        },
        "colab_type": "code",
        "id": "qV-wHjA08zC6",
        "outputId": "977f8f15-4eb2-4116-fb27-dea99dd4fd5b"
      },
      "outputs": [
        {
          "name": "stdout",
          "output_type": "stream",
          "text": [
            "PYTHON FOR DATA SCIENCE\n",
            "python for data science\n"
          ]
        }
      ],
      "source": [
        "print(message.upper()) #print uppercase form of string\n",
        "print(message.lower()) #print lowercase form of string"
      ]
    },
    {
      "cell_type": "code",
      "execution_count": 11,
      "metadata": {
        "colab": {
          "base_uri": "https://localhost:8080/",
          "height": 35
        },
        "colab_type": "code",
        "id": "NYAVmAAC9sWH",
        "outputId": "c561a571-883e-4451-de39-74c5663de856"
      },
      "outputs": [
        {
          "name": "stdout",
          "output_type": "stream",
          "text": [
            "shrayank mistry\n"
          ]
        }
      ],
      "source": [
        "f_name = \"shrayank\"\n",
        "l_name = \"mistry\"\n",
        "full_name = f\"{f_name} {l_name}\" #f - format creating f-strings Python 3.6 and Above\n",
        "print(full_name)"
      ]
    },
    {
      "cell_type": "code",
      "execution_count": 12,
      "metadata": {
        "colab": {
          "base_uri": "https://localhost:8080/",
          "height": 54
        },
        "colab_type": "code",
        "id": "Cym5rWfy9uuR",
        "outputId": "e48e4594-2dcb-45e3-fc2e-c381e7f0fb62"
      },
      "outputs": [
        {
          "name": "stdout",
          "output_type": "stream",
          "text": [
            "Hello Shrayank Mistry\n",
            "Hello Shrayank Mistry\n"
          ]
        }
      ],
      "source": [
        "print(f\"Hello {full_name.title()}\") #OR\n",
        "print(\"Hello \"+ full_name.title())"
      ]
    },
    {
      "cell_type": "code",
      "execution_count": 13,
      "metadata": {
        "colab": {
          "base_uri": "https://localhost:8080/",
          "height": 35
        },
        "colab_type": "code",
        "id": "9QxZ4fxM-qtC",
        "outputId": "8c026c96-6c28-4cef-80b9-86a4b94241b2"
      },
      "outputs": [
        {
          "name": "stdout",
          "output_type": "stream",
          "text": [
            "Shrayank Mistry\n"
          ]
        }
      ],
      "source": [
        "full_name = \"{} {}\".format(f_name, l_name) #Python 3.5 and Below format()\n",
        "print(full_name.title())"
      ]
    },
    {
      "cell_type": "code",
      "execution_count": 14,
      "metadata": {
        "colab": {
          "base_uri": "https://localhost:8080/",
          "height": 72
        },
        "colab_type": "code",
        "id": "po7xr-0o_Q_t",
        "outputId": "4fedfdd3-a872-4f2e-f0f6-aac27e1fef06"
      },
      "outputs": [
        {
          "name": "stdout",
          "output_type": "stream",
          "text": [
            " Python\n",
            "Python \n",
            "Python\n"
          ]
        }
      ],
      "source": [
        "favourite_language = ' Python '\n",
        "print(favourite_language.rstrip()) #remove blank spaces from right side of string\n",
        "print(favourite_language.lstrip()) #remove blank spaces from left side of string\n",
        "print(favourite_language.strip()) #remove blank spaces from left and right side of string"
      ]
    },
    {
      "cell_type": "code",
      "execution_count": 135,
      "metadata": {
        "colab": {
          "base_uri": "https://localhost:8080/",
          "height": 35
        },
        "colab_type": "code",
        "id": "OvCvwpCDjrtI",
        "outputId": "4842d854-3aa0-4d6b-f24d-e5c6959d8670"
      },
      "outputs": [
        {
          "data": {
            "text/plain": [
              "['Foundations', 'of', 'Data', 'Science']"
            ]
          },
          "execution_count": 135,
          "metadata": {},
          "output_type": "execute_result"
        }
      ],
      "source": [
        "course = \"Foundations of Data Science\"\n",
        "course_list = course.split() #splits the string and creates a list\n",
        "course_list"
      ]
    },
    {
      "cell_type": "markdown",
      "metadata": {
        "colab_type": "text",
        "id": "zyf28toHBKyn"
      },
      "source": [
        "# Lists\n",
        "Lists are declared using [ ] brackets. Indexing starts at 0.\n",
        "Index of last element starts from -1.\n",
        "\n",
        "Lists can be modified at any time and can hold different data items in the same list."
      ]
    },
    {
      "cell_type": "code",
      "execution_count": 16,
      "metadata": {
        "colab": {
          "base_uri": "https://localhost:8080/",
          "height": 54
        },
        "colab_type": "code",
        "id": "-iT7l7JIAoc6",
        "outputId": "6ede2186-74e3-4e3e-9e02-8f63c873f4d4"
      },
      "outputs": [
        {
          "name": "stdout",
          "output_type": "stream",
          "text": [
            "<class 'list'>\n",
            "<class 'list'>\n"
          ]
        }
      ],
      "source": [
        "fruits = ['apple','orange','banana','mangoes'] #all data items in list are string\n",
        "print(type(fruits))\n",
        "multiple_data_types = [2,'cars',False,'True',3,67,'fruits'] #data items are different\n",
        "print(type(multiple_data_types))"
      ]
    },
    {
      "cell_type": "code",
      "execution_count": 17,
      "metadata": {
        "colab": {
          "base_uri": "https://localhost:8080/",
          "height": 35
        },
        "colab_type": "code",
        "id": "61IhxYmgBXOn",
        "outputId": "c5b39196-9091-4aa5-ffbd-938baf72428a"
      },
      "outputs": [
        {
          "name": "stdout",
          "output_type": "stream",
          "text": [
            "<class 'list'>\n"
          ]
        }
      ],
      "source": [
        "empty_list = list() #syntax for empty list OR\n",
        "empty_list_2 = []\n",
        "print(type(empty_list))"
      ]
    },
    {
      "cell_type": "code",
      "execution_count": 18,
      "metadata": {
        "colab": {
          "base_uri": "https://localhost:8080/",
          "height": 72
        },
        "colab_type": "code",
        "id": "C33js6HFCIlp",
        "outputId": "83c4ae5d-d21e-478e-b552-2ed1205e2620"
      },
      "outputs": [
        {
          "name": "stdout",
          "output_type": "stream",
          "text": [
            "apple\n",
            "mangoes\n",
            "banana\n"
          ]
        }
      ],
      "source": [
        "print(fruits[0]) #accessing first element of fruits list\n",
        "print(fruits[-1]) #accessing last element of fruits list\n",
        "print(fruits[-2]) #accessing second last element of fruits list"
      ]
    },
    {
      "cell_type": "code",
      "execution_count": 19,
      "metadata": {
        "colab": {
          "base_uri": "https://localhost:8080/",
          "height": 35
        },
        "colab_type": "code",
        "id": "xqlx5m7sCTVY",
        "outputId": "e7146dc0-b2af-459e-fb65-88257f5f10fb"
      },
      "outputs": [
        {
          "data": {
            "text/plain": [
              "['coconut', 'orange', 'banana', 'mangoes']"
            ]
          },
          "execution_count": 19,
          "metadata": {},
          "output_type": "execute_result"
        }
      ],
      "source": [
        "fruits[0] = 'coconut' #modifying list fruits\n",
        "fruits"
      ]
    },
    {
      "cell_type": "code",
      "execution_count": 20,
      "metadata": {
        "colab": {
          "base_uri": "https://localhost:8080/",
          "height": 35
        },
        "colab_type": "code",
        "id": "Z5niOP4AC9aY",
        "outputId": "6968ce70-2e04-40d4-fcda-f6b33b41f71e"
      },
      "outputs": [
        {
          "data": {
            "text/plain": [
              "['coconut', 'orange', 'banana', 'mangoes', 'kiwi']"
            ]
          },
          "execution_count": 20,
          "metadata": {},
          "output_type": "execute_result"
        }
      ],
      "source": [
        "fruits.append('kiwi') #appending at the end of list\n",
        "fruits"
      ]
    },
    {
      "cell_type": "code",
      "execution_count": 21,
      "metadata": {
        "colab": {
          "base_uri": "https://localhost:8080/",
          "height": 35
        },
        "colab_type": "code",
        "id": "162wAmbpDLe6",
        "outputId": "cc1ad351-aaf6-4ede-f776-5ed5e3839f1c"
      },
      "outputs": [
        {
          "data": {
            "text/plain": [
              "['strawberries', 'coconut', 'orange', 'banana', 'mangoes', 'kiwi']"
            ]
          },
          "execution_count": 21,
          "metadata": {},
          "output_type": "execute_result"
        }
      ],
      "source": [
        "fruits.insert(0,'strawberries') #insert at first location 0. Give index and value\n",
        "fruits"
      ]
    },
    {
      "cell_type": "code",
      "execution_count": 22,
      "metadata": {
        "colab": {
          "base_uri": "https://localhost:8080/",
          "height": 35
        },
        "colab_type": "code",
        "id": "8eE4tcBsDjcf",
        "outputId": "53573e1e-01dc-42df-9f1c-00b23d727f00"
      },
      "outputs": [
        {
          "data": {
            "text/plain": [
              "['strawberries', 'coconut', 'orange', 'banana', 'mangoes']"
            ]
          },
          "execution_count": 22,
          "metadata": {},
          "output_type": "execute_result"
        }
      ],
      "source": [
        "del fruits[-1] #delete -1 elememt from list\n",
        "fruits"
      ]
    },
    {
      "cell_type": "code",
      "execution_count": 23,
      "metadata": {
        "colab": {
          "base_uri": "https://localhost:8080/",
          "height": 54
        },
        "colab_type": "code",
        "id": "IZvkC-FAD3EU",
        "outputId": "74a29269-f4af-4583-ab87-474def9f7edb"
      },
      "outputs": [
        {
          "name": "stdout",
          "output_type": "stream",
          "text": [
            "mangoes\n"
          ]
        },
        {
          "data": {
            "text/plain": [
              "['strawberries', 'coconut', 'orange', 'banana']"
            ]
          },
          "execution_count": 23,
          "metadata": {},
          "output_type": "execute_result"
        }
      ],
      "source": [
        "print(fruits.pop()) #pops the last element from list when no index given\n",
        "fruits"
      ]
    },
    {
      "cell_type": "code",
      "execution_count": 24,
      "metadata": {
        "colab": {
          "base_uri": "https://localhost:8080/",
          "height": 54
        },
        "colab_type": "code",
        "id": "Cyz0KkqpEJhL",
        "outputId": "a8e76331-d885-499a-f1eb-13a1b39fb23b"
      },
      "outputs": [
        {
          "name": "stdout",
          "output_type": "stream",
          "text": [
            "coconut\n"
          ]
        },
        {
          "data": {
            "text/plain": [
              "['strawberries', 'orange', 'banana']"
            ]
          },
          "execution_count": 24,
          "metadata": {},
          "output_type": "execute_result"
        }
      ],
      "source": [
        "print(fruits.pop(1)) #pops element at given index\n",
        "fruits"
      ]
    },
    {
      "cell_type": "code",
      "execution_count": 25,
      "metadata": {
        "colab": {
          "base_uri": "https://localhost:8080/",
          "height": 35
        },
        "colab_type": "code",
        "id": "tIolKE1EEX5Q",
        "outputId": "c0f1dba9-47a8-4654-fc55-aa12971542b4"
      },
      "outputs": [
        {
          "data": {
            "text/plain": [
              "['strawberries', 'orange']"
            ]
          },
          "execution_count": 25,
          "metadata": {},
          "output_type": "execute_result"
        }
      ],
      "source": [
        "fruits.remove('banana') #removes values from list according to value\n",
        "fruits"
      ]
    },
    {
      "cell_type": "code",
      "execution_count": 26,
      "metadata": {
        "colab": {},
        "colab_type": "code",
        "id": "82LZXrcTEfjP"
      },
      "outputs": [],
      "source": [
        "fruits = ['apple','orange','banana','mangoes','kiwi','coconut'] "
      ]
    },
    {
      "cell_type": "code",
      "execution_count": 27,
      "metadata": {
        "colab": {
          "base_uri": "https://localhost:8080/",
          "height": 35
        },
        "colab_type": "code",
        "id": "CDcv6vG8E0Td",
        "outputId": "29f1aecc-cdfb-4699-b2da-0f7fa8d7fa6f"
      },
      "outputs": [
        {
          "data": {
            "text/plain": [
              "['apple', 'banana', 'coconut', 'kiwi', 'mangoes', 'orange']"
            ]
          },
          "execution_count": 27,
          "metadata": {},
          "output_type": "execute_result"
        }
      ],
      "source": [
        "fruits.sort() #sorts in alphabetical ascending order permanently\n",
        "fruits"
      ]
    },
    {
      "cell_type": "code",
      "execution_count": 28,
      "metadata": {
        "colab": {
          "base_uri": "https://localhost:8080/",
          "height": 35
        },
        "colab_type": "code",
        "id": "TppBW_YoE9GH",
        "outputId": "6286130d-bd35-4a3f-ea92-d49e822a9010"
      },
      "outputs": [
        {
          "data": {
            "text/plain": [
              "['orange', 'mangoes', 'kiwi', 'coconut', 'banana', 'apple']"
            ]
          },
          "execution_count": 28,
          "metadata": {},
          "output_type": "execute_result"
        }
      ],
      "source": [
        "fruits.sort(reverse=True)\n",
        "fruits"
      ]
    },
    {
      "cell_type": "code",
      "execution_count": 29,
      "metadata": {
        "colab": {
          "base_uri": "https://localhost:8080/",
          "height": 35
        },
        "colab_type": "code",
        "id": "BiWarcCFFNDN",
        "outputId": "180cc3a6-9e23-4c14-d9db-83274d58a1c6"
      },
      "outputs": [
        {
          "name": "stdout",
          "output_type": "stream",
          "text": [
            "['apple', 'banana', 'coconut', 'kiwi', 'mangoes', 'orange']\n"
          ]
        }
      ],
      "source": [
        "print(sorted(fruits)) #temporary sorting ascending"
      ]
    },
    {
      "cell_type": "code",
      "execution_count": 30,
      "metadata": {
        "colab": {
          "base_uri": "https://localhost:8080/",
          "height": 35
        },
        "colab_type": "code",
        "id": "ESKDOQUkFVzT",
        "outputId": "b2509d01-bbd9-4a08-c031-8691b78748b8"
      },
      "outputs": [
        {
          "name": "stdout",
          "output_type": "stream",
          "text": [
            "['orange', 'mangoes', 'kiwi', 'coconut', 'banana', 'apple']\n"
          ]
        }
      ],
      "source": [
        "print(sorted(fruits,reverse=True))"
      ]
    },
    {
      "cell_type": "code",
      "execution_count": 31,
      "metadata": {
        "colab": {
          "base_uri": "https://localhost:8080/",
          "height": 54
        },
        "colab_type": "code",
        "id": "7mFw0EEEFmvu",
        "outputId": "17f664aa-ca0a-44e9-bf68-211b8a7ca1de"
      },
      "outputs": [
        {
          "name": "stdout",
          "output_type": "stream",
          "text": [
            "None\n"
          ]
        },
        {
          "data": {
            "text/plain": [
              "['coconut', 'kiwi', 'mangoes', 'banana', 'orange', 'apple']"
            ]
          },
          "execution_count": 31,
          "metadata": {},
          "output_type": "execute_result"
        }
      ],
      "source": [
        "fruits = ['apple','orange','banana','mangoes','kiwi','coconut'] \n",
        "print(fruits.reverse()) #only reverses the list does not sort\n",
        "fruits"
      ]
    },
    {
      "cell_type": "code",
      "execution_count": 32,
      "metadata": {
        "colab": {
          "base_uri": "https://localhost:8080/",
          "height": 35
        },
        "colab_type": "code",
        "id": "dwSSPvgOF20T",
        "outputId": "d2b4bb43-a672-4eaf-d0b4-2a01cfd10f37"
      },
      "outputs": [
        {
          "data": {
            "text/plain": [
              "6"
            ]
          },
          "execution_count": 32,
          "metadata": {},
          "output_type": "execute_result"
        }
      ],
      "source": [
        "len(fruits) #find length of list"
      ]
    },
    {
      "cell_type": "code",
      "execution_count": 33,
      "metadata": {
        "colab": {
          "base_uri": "https://localhost:8080/",
          "height": 126
        },
        "colab_type": "code",
        "id": "IKGb-u3FGiMJ",
        "outputId": "68629033-5f85-4e53-cee5-4ac6d67ad12d"
      },
      "outputs": [
        {
          "name": "stdout",
          "output_type": "stream",
          "text": [
            "apple\n",
            "orange\n",
            "banana\n",
            "mangoes\n",
            "kiwi\n",
            "coconut\n"
          ]
        }
      ],
      "source": [
        "fruits = ['apple','orange','banana','mangoes','kiwi','coconut'] \n",
        "for fruit in fruits:\n",
        "    print(fruit)"
      ]
    },
    {
      "cell_type": "code",
      "execution_count": 34,
      "metadata": {
        "colab": {
          "base_uri": "https://localhost:8080/",
          "height": 108
        },
        "colab_type": "code",
        "id": "FvHdJkvqHQLB",
        "outputId": "3158a0f1-c4f6-4cfd-c0f8-309feb31f670"
      },
      "outputs": [
        {
          "name": "stdout",
          "output_type": "stream",
          "text": [
            "0\n",
            "1\n",
            "2\n",
            "3\n",
            "4\n"
          ]
        }
      ],
      "source": [
        "for i in range(0,5): #0 inclusive 5 exclusive starts at zero goes upto 4\n",
        "    print(i)"
      ]
    },
    {
      "cell_type": "code",
      "execution_count": 35,
      "metadata": {
        "colab": {
          "base_uri": "https://localhost:8080/",
          "height": 108
        },
        "colab_type": "code",
        "id": "ERIzyD59Hods",
        "outputId": "12400257-dd3c-438b-977c-56062d426ef9"
      },
      "outputs": [
        {
          "name": "stdout",
          "output_type": "stream",
          "text": [
            "0\n",
            "1\n",
            "2\n",
            "3\n",
            "4\n"
          ]
        }
      ],
      "source": [
        "for i in range(5): #if first index not specified starts at zero goes to 5\n",
        "    print(i)"
      ]
    },
    {
      "cell_type": "code",
      "execution_count": 36,
      "metadata": {
        "colab": {
          "base_uri": "https://localhost:8080/",
          "height": 35
        },
        "colab_type": "code",
        "id": "ne8MlGcwIRm7",
        "outputId": "f3c0c748-61b1-4de4-c76d-c1ab9bcb8c19"
      },
      "outputs": [
        {
          "data": {
            "text/plain": [
              "[0, 1, 2, 3, 4, 5]"
            ]
          },
          "execution_count": 36,
          "metadata": {},
          "output_type": "execute_result"
        }
      ],
      "source": [
        "range_of_numbers = list(range(0,6)) #arguments 1-startValue 2-endValue Exclusive\n",
        "range_of_numbers"
      ]
    },
    {
      "cell_type": "code",
      "execution_count": 37,
      "metadata": {
        "colab": {
          "base_uri": "https://localhost:8080/",
          "height": 35
        },
        "colab_type": "code",
        "id": "99uU3vpLIeqn",
        "outputId": "b67e2fde-4377-4dbc-ec1d-401df221fbb0"
      },
      "outputs": [
        {
          "data": {
            "text/plain": [
              "[2, 4, 6, 8, 10]"
            ]
          },
          "execution_count": 37,
          "metadata": {},
          "output_type": "execute_result"
        }
      ],
      "source": [
        "range_of_numbers = list(range(2,11,2)) #arguments 1-startValue 2-endValue Exclusive 3-jumpOfValues \n",
        "range_of_numbers"
      ]
    },
    {
      "cell_type": "code",
      "execution_count": 38,
      "metadata": {
        "colab": {
          "base_uri": "https://localhost:8080/",
          "height": 72
        },
        "colab_type": "code",
        "id": "cNPEk6eOI4XX",
        "outputId": "c0493498-0c0e-4a24-f9e5-3d806eedac92"
      },
      "outputs": [
        {
          "name": "stdout",
          "output_type": "stream",
          "text": [
            "2\n",
            "10\n",
            "30\n"
          ]
        }
      ],
      "source": [
        "print(min(range_of_numbers))\n",
        "print(max(range_of_numbers))\n",
        "print(sum(range_of_numbers))"
      ]
    },
    {
      "cell_type": "code",
      "execution_count": 155,
      "metadata": {
        "colab": {
          "base_uri": "https://localhost:8080/",
          "height": 35
        },
        "colab_type": "code",
        "id": "tFcBcCTuJEsS",
        "outputId": "d7aff0f8-9aa8-4c1d-b4a0-d72a90db87f1"
      },
      "outputs": [
        {
          "name": "stdout",
          "output_type": "stream",
          "text": [
            "CPU times: user 743 µs, sys: 0 ns, total: 743 µs\n",
            "Wall time: 746 µs\n"
          ]
        }
      ],
      "source": [
        "%%time\n",
        "squares = [value ** 2 for value in range(1, 7000, 2)] #List Comprehensions\n",
        "# squares"
      ]
    },
    {
      "cell_type": "code",
      "execution_count": 98,
      "metadata": {
        "colab": {
          "base_uri": "https://localhost:8080/",
          "height": 54
        },
        "colab_type": "code",
        "id": "0H5yjNVqJvc6",
        "outputId": "4fb37f1e-22e5-4603-94b4-40c31cf408c6"
      },
      "outputs": [
        {
          "name": "stdout",
          "output_type": "stream",
          "text": [
            "CPU times: user 92.8 ms, sys: 12.1 ms, total: 105 ms\n",
            "Wall time: 104 ms\n"
          ]
        }
      ],
      "source": [
        "%%time\n",
        "millon_numbers = []\n",
        "for i in range(1,1000000):\n",
        "    millon_numbers.append(i)\n",
        "# millon_numbers"
      ]
    },
    {
      "cell_type": "code",
      "execution_count": 41,
      "metadata": {
        "colab": {
          "base_uri": "https://localhost:8080/",
          "height": 54
        },
        "colab_type": "code",
        "id": "fo7K6UGBJVaU",
        "outputId": "04cc94f1-755e-430d-c688-1d39c4ec06c2"
      },
      "outputs": [
        {
          "name": "stdout",
          "output_type": "stream",
          "text": [
            "CPU times: user 21.5 ms, sys: 12.5 ms, total: 34 ms\n",
            "Wall time: 33.2 ms\n"
          ]
        }
      ],
      "source": [
        "%%time\n",
        "millon_numbers = [value for value in range(1,1000000)]"
      ]
    },
    {
      "cell_type": "code",
      "execution_count": 42,
      "metadata": {
        "colab": {
          "base_uri": "https://localhost:8080/",
          "height": 35
        },
        "colab_type": "code",
        "id": "1le6EVffJsGw",
        "outputId": "dc672556-2637-4ab2-bd93-347d69cb4643"
      },
      "outputs": [
        {
          "name": "stdout",
          "output_type": "stream",
          "text": [
            "['charles', 'martina', 'michael']\n"
          ]
        }
      ],
      "source": [
        "players = ['charles', 'martina', 'michael', 'florence', 'eli']\n",
        "print(players[0:3]) #slicing a list starting at 0 ending at 2"
      ]
    },
    {
      "cell_type": "code",
      "execution_count": 43,
      "metadata": {
        "colab": {
          "base_uri": "https://localhost:8080/",
          "height": 35
        },
        "colab_type": "code",
        "id": "NoL7w0kwKJNM",
        "outputId": "3939923f-6b68-4948-8c90-1c4c7117868c"
      },
      "outputs": [
        {
          "name": "stdout",
          "output_type": "stream",
          "text": [
            "['charles', 'martina', 'michael']\n"
          ]
        }
      ],
      "source": [
        "print(players[:3]) #if no starting index starts at beginning of list to end index"
      ]
    },
    {
      "cell_type": "code",
      "execution_count": 44,
      "metadata": {
        "colab": {
          "base_uri": "https://localhost:8080/",
          "height": 35
        },
        "colab_type": "code",
        "id": "1sGQiYp0KQsW",
        "outputId": "30c1279e-02ac-4bde-b09f-4f232c19255a"
      },
      "outputs": [
        {
          "name": "stdout",
          "output_type": "stream",
          "text": [
            "['michael', 'florence', 'eli']\n"
          ]
        }
      ],
      "source": [
        "print(players[2:]) #if no ending index starts at index given to end of list"
      ]
    },
    {
      "cell_type": "code",
      "execution_count": 45,
      "metadata": {
        "colab": {
          "base_uri": "https://localhost:8080/",
          "height": 35
        },
        "colab_type": "code",
        "id": "KitMZYlOKeBe",
        "outputId": "6180a3ff-6acd-4335-8008-f4d48e118b41"
      },
      "outputs": [
        {
          "name": "stdout",
          "output_type": "stream",
          "text": [
            "['florence', 'eli']\n"
          ]
        }
      ],
      "source": [
        "print(players[-2:]) #start the end prints values equal to absolute value of index"
      ]
    },
    {
      "cell_type": "code",
      "execution_count": 46,
      "metadata": {
        "colab": {
          "base_uri": "https://localhost:8080/",
          "height": 35
        },
        "colab_type": "code",
        "id": "43kMhFvUKvZ7",
        "outputId": "ed7b1455-e683-4ba1-8ff7-1a82139b0298"
      },
      "outputs": [
        {
          "name": "stdout",
          "output_type": "stream",
          "text": [
            "['fig', 'orange', 'banana', 'mangoes', 'kiwi', 'coconut']\n"
          ]
        }
      ],
      "source": [
        "fruits = ['apple','orange','banana','mangoes','kiwi','coconut']\n",
        "fruits_copy = fruits #both fruits and fruits_copy point at same list\n",
        "fruits_copy[0] = 'fig'\n",
        "print(fruits)"
      ]
    },
    {
      "cell_type": "code",
      "execution_count": 47,
      "metadata": {
        "colab": {
          "base_uri": "https://localhost:8080/",
          "height": 54
        },
        "colab_type": "code",
        "id": "iOfPxtguLWlk",
        "outputId": "1d3336d7-5a27-43e2-d13d-784c749640a6"
      },
      "outputs": [
        {
          "name": "stdout",
          "output_type": "stream",
          "text": [
            "['apple', 'orange', 'banana', 'mangoes', 'kiwi', 'coconut']\n",
            "['fig', 'orange', 'banana', 'mangoes', 'kiwi', 'coconut']\n"
          ]
        }
      ],
      "source": [
        "fruits = ['apple','orange','banana','mangoes','kiwi','coconut']\n",
        "fruits_copy = fruits[:] #deep copy create entire new list\n",
        "fruits_copy[0] = 'fig'\n",
        "print(fruits)\n",
        "print(fruits_copy)"
      ]
    },
    {
      "cell_type": "code",
      "execution_count": 48,
      "metadata": {
        "colab": {
          "base_uri": "https://localhost:8080/",
          "height": 35
        },
        "colab_type": "code",
        "id": "5-Fw9rmdv7Yg",
        "outputId": "3ffb0122-71d8-48c9-de6d-94d377e487b5"
      },
      "outputs": [
        {
          "name": "stdout",
          "output_type": "stream",
          "text": [
            "True\n"
          ]
        }
      ],
      "source": [
        "fruits = ['apple','orange','banana','mangoes','kiwi','coconut']\n",
        "print('apple' in fruits)"
      ]
    },
    {
      "cell_type": "code",
      "execution_count": 49,
      "metadata": {
        "colab": {},
        "colab_type": "code",
        "id": "-KcmTPo7l3EV"
      },
      "outputs": [],
      "source": [
        "bmi_dataset = [\n",
        "               [\"Mark\",135,1.6,True],\n",
        "               [\"Jack\",150,1.73,False],\n",
        "               [\"Rock\",160,1.67,True]\n",
        "]"
      ]
    },
    {
      "cell_type": "code",
      "execution_count": 50,
      "metadata": {
        "colab": {
          "base_uri": "https://localhost:8080/",
          "height": 35
        },
        "colab_type": "code",
        "id": "EY84fLMEmHwO",
        "outputId": "c512ecf2-a8fc-4c81-a278-0d98189734b4"
      },
      "outputs": [
        {
          "data": {
            "text/plain": [
              "135"
            ]
          },
          "execution_count": 50,
          "metadata": {},
          "output_type": "execute_result"
        }
      ],
      "source": [
        "bmi_dataset[0][1]"
      ]
    },
    {
      "cell_type": "code",
      "execution_count": 51,
      "metadata": {
        "colab": {},
        "colab_type": "code",
        "id": "mwb8ok9to8pb"
      },
      "outputs": [],
      "source": [
        "A = [\n",
        "     [1,1],\n",
        "     [1,0]\n",
        "]"
      ]
    },
    {
      "cell_type": "code",
      "execution_count": 52,
      "metadata": {
        "colab": {},
        "colab_type": "code",
        "id": "z7w-ilWppAmk"
      },
      "outputs": [],
      "source": [
        "def square_matrix_power(A,n):\n",
        "    temp = A[:]\n",
        "    for index in range(n-1):\n",
        "        c = [[0,0],[0,0]]\n",
        "        for i in range(len(A[0])):\n",
        "            for j in range(len(A[0])):\n",
        "                for k in range(len(A[0])):\n",
        "                    c[i][j] = c[i][j] + A[i][k] * temp[k][j]\n",
        "        A = c[:]\n",
        "    return A"
      ]
    },
    {
      "cell_type": "code",
      "execution_count": 53,
      "metadata": {
        "colab": {},
        "colab_type": "code",
        "id": "9KOwZysvq6bz"
      },
      "outputs": [],
      "source": [
        "result = square_matrix_power(A,2)"
      ]
    },
    {
      "cell_type": "code",
      "execution_count": 54,
      "metadata": {
        "colab": {
          "base_uri": "https://localhost:8080/",
          "height": 35
        },
        "colab_type": "code",
        "id": "hDRyZObgrAUA",
        "outputId": "9fb57ec9-064d-431f-bb09-9a4a56e129f8"
      },
      "outputs": [
        {
          "data": {
            "text/plain": [
              "[[2, 1], [1, 1]]"
            ]
          },
          "execution_count": 54,
          "metadata": {},
          "output_type": "execute_result"
        }
      ],
      "source": [
        "result"
      ]
    },
    {
      "cell_type": "code",
      "execution_count": 55,
      "metadata": {
        "colab": {
          "base_uri": "https://localhost:8080/",
          "height": 199
        },
        "colab_type": "code",
        "id": "F585NhYZtflc",
        "outputId": "e7c30ff8-6383-4804-f2a3-4e7751b14104"
      },
      "outputs": [
        {
          "name": "stdout",
          "output_type": "stream",
          "text": [
            "0 1\n",
            "1 1\n",
            "2 2\n",
            "3 3\n",
            "4 5\n",
            "5 8\n",
            "6 13\n",
            "7 21\n",
            "8 34\n",
            "9 55\n"
          ]
        }
      ],
      "source": [
        "for i in range(10):\n",
        "    output = square_matrix_power(A,i)\n",
        "    print(i,output[0][0])"
      ]
    },
    {
      "cell_type": "markdown",
      "metadata": {
        "colab_type": "text",
        "id": "dNvSIfI7L7Bd"
      },
      "source": [
        "# Tuples\n",
        "\n",
        "Tuples are declared using ( ). Tuples are immutable , that is they cannot be modified. Indexing starts at 0."
      ]
    },
    {
      "cell_type": "code",
      "execution_count": 56,
      "metadata": {
        "colab": {
          "base_uri": "https://localhost:8080/",
          "height": 35
        },
        "colab_type": "code",
        "id": "MEV230eCLqrR",
        "outputId": "a1ef62bf-c705-4727-86e7-cc246c618e99"
      },
      "outputs": [
        {
          "name": "stdout",
          "output_type": "stream",
          "text": [
            "<class 'tuple'> (1366, 768)\n"
          ]
        }
      ],
      "source": [
        "empty_tuple  = (1366,768)\n",
        "print(type(empty_tuple),empty_tuple)"
      ]
    },
    {
      "cell_type": "code",
      "execution_count": 57,
      "metadata": {
        "colab": {
          "base_uri": "https://localhost:8080/",
          "height": 35
        },
        "colab_type": "code",
        "id": "wjQbG2jbOX6B",
        "outputId": "1ae2bb1e-df75-4de9-a3d7-11f296dcb6f1"
      },
      "outputs": [
        {
          "data": {
            "text/plain": [
              "(1, 2, 3, 4, 5, 6, 7, 8, 9, 10)"
            ]
          },
          "execution_count": 57,
          "metadata": {},
          "output_type": "execute_result"
        }
      ],
      "source": [
        "tuple_numbers = tuple(range(1,11))\n",
        "tuple_numbers"
      ]
    },
    {
      "cell_type": "code",
      "execution_count": 58,
      "metadata": {
        "colab": {},
        "colab_type": "code",
        "id": "cwGYKP3LOePV"
      },
      "outputs": [
        {
          "name": "stdout",
          "output_type": "stream",
          "text": [
            "1\n",
            "2\n",
            "3\n",
            "4\n",
            "5\n",
            "6\n",
            "7\n",
            "8\n",
            "9\n",
            "10\n"
          ]
        }
      ],
      "source": [
        "for i in tuple_numbers:\n",
        "    print(i)"
      ]
    },
    {
      "cell_type": "code",
      "execution_count": 59,
      "metadata": {
        "colab": {
          "base_uri": "https://localhost:8080/",
          "height": 35
        },
        "colab_type": "code",
        "id": "mireI6zEwc-z",
        "outputId": "41baa327-e192-45b0-b866-d86a6fd3ae27"
      },
      "outputs": [
        {
          "data": {
            "text/plain": [
              "0"
            ]
          },
          "execution_count": 59,
          "metadata": {},
          "output_type": "execute_result"
        }
      ],
      "source": [
        "fruits_tuple = ('apple','fig','orange','jackfruit')\n",
        "fruits_tuple.index('apple')"
      ]
    },
    {
      "cell_type": "code",
      "execution_count": 60,
      "metadata": {
        "colab": {
          "base_uri": "https://localhost:8080/",
          "height": 35
        },
        "colab_type": "code",
        "id": "XxTMjMQ_wtkp",
        "outputId": "d898399d-881b-4852-9782-f92819c3c75e"
      },
      "outputs": [
        {
          "name": "stdout",
          "output_type": "stream",
          "text": [
            "55.4 ms ± 3.2 ms per loop (mean ± std. dev. of 10 runs, 1 loop each)\n"
          ]
        }
      ],
      "source": [
        "%%timeit -n1 -r10\n",
        "#executes the given code n time and repeats it 10 times and gives best possible time\n",
        "for i in range(1000000):\n",
        "    my_list = ['apple',2,'fig',55,False,True]"
      ]
    },
    {
      "cell_type": "code",
      "execution_count": 61,
      "metadata": {
        "colab": {
          "base_uri": "https://localhost:8080/",
          "height": 35
        },
        "colab_type": "code",
        "id": "urS8ei4txRET",
        "outputId": "dc20ee61-f79c-4ec2-cb9c-04a1c17768be"
      },
      "outputs": [
        {
          "name": "stdout",
          "output_type": "stream",
          "text": [
            "19.7 ms ± 824 µs per loop (mean ± std. dev. of 10 runs, 1 loop each)\n"
          ]
        }
      ],
      "source": [
        "%%timeit -n1 -r10\n",
        "#executes the given code n time and repeats it 10 times and gives best possible time\n",
        "for i in range(1000000):\n",
        "    my_tuple = ('apple',2,'fig',55,False,True)"
      ]
    },
    {
      "cell_type": "markdown",
      "metadata": {
        "colab_type": "text",
        "id": "zrUH2OjxxYY2"
      },
      "source": [
        "# Sets \n",
        "\n",
        "Sets are declared using { }. They do not store duplicate values. They are used for set operations. Sets are much faster compared to list and tuples."
      ]
    },
    {
      "cell_type": "code",
      "execution_count": 62,
      "metadata": {
        "colab": {
          "base_uri": "https://localhost:8080/",
          "height": 35
        },
        "colab_type": "code",
        "id": "LRAFuOkRx0e8",
        "outputId": "d0952ddf-88cd-4881-9f45-132ca27009dd"
      },
      "outputs": [
        {
          "name": "stdout",
          "output_type": "stream",
          "text": [
            "{'Ravindra', 'Virat', 'Rohit', 'Sachin'}\n"
          ]
        }
      ],
      "source": [
        "batsmen = {'Virat','Sachin','Ravindra','Rohit','Virat'}\n",
        "print(batsmen)\n"
      ]
    },
    {
      "cell_type": "code",
      "execution_count": 63,
      "metadata": {
        "colab": {},
        "colab_type": "code",
        "id": "KTTQeTTqx_as"
      },
      "outputs": [],
      "source": [
        "bowlers = {'Ravindra','Bumbrah','Ashwin','Ishant'}\n",
        "all_rounders = batsmen.intersection(bowlers)"
      ]
    },
    {
      "cell_type": "code",
      "execution_count": 64,
      "metadata": {
        "colab": {
          "base_uri": "https://localhost:8080/",
          "height": 35
        },
        "colab_type": "code",
        "id": "bFLhmgBCyLqS",
        "outputId": "c0d95362-85fe-414c-e932-f51405c87251"
      },
      "outputs": [
        {
          "name": "stdout",
          "output_type": "stream",
          "text": [
            "{'Ravindra'}\n"
          ]
        }
      ],
      "source": [
        "print(all_rounders)"
      ]
    },
    {
      "cell_type": "code",
      "execution_count": 65,
      "metadata": {
        "colab": {
          "base_uri": "https://localhost:8080/",
          "height": 35
        },
        "colab_type": "code",
        "id": "rucQVbXjyjWf",
        "outputId": "37cd7e81-d33a-45f5-f247-6663a5916692"
      },
      "outputs": [
        {
          "name": "stdout",
          "output_type": "stream",
          "text": [
            "786 ms ± 25.1 ms per loop (mean ± std. dev. of 10 runs, 1 loop each)\n"
          ]
        }
      ],
      "source": [
        "%%timeit -n1 -r10\n",
        "my_list = list(range(10000))\n",
        "for i in range(10000):\n",
        "    b = 24566 in my_list"
      ]
    },
    {
      "cell_type": "code",
      "execution_count": 66,
      "metadata": {
        "colab": {
          "base_uri": "https://localhost:8080/",
          "height": 35
        },
        "colab_type": "code",
        "id": "PKm18hk-y0gu",
        "outputId": "21914d55-ba52-4531-d591-4311808ff4f5"
      },
      "outputs": [
        {
          "name": "stdout",
          "output_type": "stream",
          "text": [
            "725 ms ± 12.7 ms per loop (mean ± std. dev. of 10 runs, 1 loop each)\n"
          ]
        }
      ],
      "source": [
        "%%timeit -n1 -r10\n",
        "my_tuple = tuple(range(10000))\n",
        "for i in range(10000):\n",
        "    b = 24566 in my_tuple"
      ]
    },
    {
      "cell_type": "code",
      "execution_count": 67,
      "metadata": {
        "colab": {
          "base_uri": "https://localhost:8080/",
          "height": 35
        },
        "colab_type": "code",
        "id": "ZCblsMcgy50Q",
        "outputId": "57e0d42d-f0ff-42f7-a923-c59dd4b2a13e"
      },
      "outputs": [
        {
          "name": "stdout",
          "output_type": "stream",
          "text": [
            "802 µs ± 147 µs per loop (mean ± std. dev. of 10 runs, 1 loop each)\n"
          ]
        }
      ],
      "source": [
        "%%timeit -n1 -r10\n",
        "my_set = set(range(10000))\n",
        "for i in range(10000):\n",
        "    b = 24566 in my_set"
      ]
    },
    {
      "cell_type": "markdown",
      "metadata": {
        "colab_type": "text",
        "id": "Jt8gm-qwPdbA"
      },
      "source": [
        "# Conditional Statements IF , ElIF , ELSE\n",
        "\n",
        "\n",
        "\n"
      ]
    },
    {
      "cell_type": "code",
      "execution_count": 68,
      "metadata": {
        "colab": {},
        "colab_type": "code",
        "id": "sR848BV2PcrY"
      },
      "outputs": [],
      "source": [
        "numbers = list(range(2,21,2))\n",
        "even_numbers , odd_numbers = [] , []\n",
        "for i in numbers:\n",
        "    if i%2 == 0:\n",
        "        even_numbers.append(i)\n",
        "    else:\n",
        "        odd_numbers.append(i)"
      ]
    },
    {
      "cell_type": "code",
      "execution_count": 69,
      "metadata": {
        "colab": {
          "base_uri": "https://localhost:8080/",
          "height": 35
        },
        "colab_type": "code",
        "id": "7xugkJALQBUj",
        "outputId": "23979ff6-be0c-4ba3-b3fd-e45c62560364"
      },
      "outputs": [
        {
          "data": {
            "text/plain": [
              "[2, 4, 6, 8, 10, 12, 14, 16, 18, 20]"
            ]
          },
          "execution_count": 69,
          "metadata": {},
          "output_type": "execute_result"
        }
      ],
      "source": [
        "even_numbers"
      ]
    },
    {
      "cell_type": "code",
      "execution_count": 70,
      "metadata": {
        "colab": {
          "base_uri": "https://localhost:8080/",
          "height": 54
        },
        "colab_type": "code",
        "id": "3tpISCGrQDrW",
        "outputId": "4c8b53a2-cde4-4705-98a6-478442dff435"
      },
      "outputs": [
        {
          "name": "stdout",
          "output_type": "stream",
          "text": [
            "False\n",
            "True\n"
          ]
        }
      ],
      "source": [
        "print(2 not in even_numbers) \n",
        "print(2 in even_numbers) #check if value 2 in list or not returns boolean"
      ]
    },
    {
      "cell_type": "code",
      "execution_count": 71,
      "metadata": {
        "colab": {
          "base_uri": "https://localhost:8080/",
          "height": 90
        },
        "colab_type": "code",
        "id": "oF_OLtMGQVWd",
        "outputId": "d540acf1-374b-403f-a93d-23d5822b7768"
      },
      "outputs": [
        {
          "name": "stdout",
          "output_type": "stream",
          "text": [
            "Junior KG\n",
            "Middle School\n",
            "High School\n",
            "Collge Student\n"
          ]
        }
      ],
      "source": [
        "age_list = [5,12,18,22]\n",
        "for age in age_list:\n",
        "    if age <= 5 and age > 3:\n",
        "        print(\"Junior KG\")\n",
        "    elif age <= 13 and age > 5:\n",
        "        print(\"Middle School\")\n",
        "    elif age <= 18 and age > 13:\n",
        "        print(\"High School\")\n",
        "    else:\n",
        "        print(\"Collge Student\")"
      ]
    },
    {
      "cell_type": "code",
      "execution_count": 72,
      "metadata": {
        "colab": {
          "base_uri": "https://localhost:8080/",
          "height": 72
        },
        "colab_type": "code",
        "id": "kLxSAt3dR4Wy",
        "outputId": "0bc88eb2-9c2b-4677-fbf3-f7034cf86d18"
      },
      "outputs": [
        {
          "name": "stdout",
          "output_type": "stream",
          "text": [
            "Topping mushrooms Avaliable\n",
            "Topping french fries Not Avaliable\n",
            "Topping extra cheese Avaliable\n"
          ]
        }
      ],
      "source": [
        "available_toppings = ['mushrooms', 'olives', 'green peppers','pepperoni', 'pineapple', 'extra cheese']\n",
        "requested_toppings = ['mushrooms', 'french fries', 'extra cheese']\n",
        "\n",
        "for topping in requested_toppings:\n",
        "    if topping in available_toppings:\n",
        "        print(\"Topping \" + topping + \" Avaliable\")\n",
        "    else:\n",
        "        print(\"Topping \" + topping + \" Not Avaliable\")"
      ]
    },
    {
      "cell_type": "markdown",
      "metadata": {
        "colab_type": "text",
        "id": "y23hROcnSumL"
      },
      "source": [
        "# Dictionaries\n",
        "\n",
        "Dictionaries are declared using { }. Every value in dictionary is a KEY - VALUE Pair. Key and Value are separated by Colan : ."
      ]
    },
    {
      "cell_type": "code",
      "execution_count": 73,
      "metadata": {
        "colab": {
          "base_uri": "https://localhost:8080/",
          "height": 35
        },
        "colab_type": "code",
        "id": "i5GpNztDSbeW",
        "outputId": "6c64d969-b5da-4139-f532-58175f7af7f9"
      },
      "outputs": [
        {
          "name": "stdout",
          "output_type": "stream",
          "text": [
            "<class 'dict'>\n"
          ]
        }
      ],
      "source": [
        "student = {\n",
        "    'Name':'Mark Z',\n",
        "    'Age':30,\n",
        "    'Major':'CS'\n",
        "    }\n",
        "print(type(student))"
      ]
    },
    {
      "cell_type": "code",
      "execution_count": 74,
      "metadata": {
        "colab": {
          "base_uri": "https://localhost:8080/",
          "height": 72
        },
        "colab_type": "code",
        "id": "EvjGIGjjUDuW",
        "outputId": "08612639-f37f-4b09-8134-ea43bf668504"
      },
      "outputs": [
        {
          "name": "stdout",
          "output_type": "stream",
          "text": [
            "Mark Z\n",
            "30\n",
            "CS\n"
          ]
        }
      ],
      "source": [
        "print(student['Name'])\n",
        "print(student['Age'])\n",
        "print(student['Major'])"
      ]
    },
    {
      "cell_type": "code",
      "execution_count": 75,
      "metadata": {
        "colab": {},
        "colab_type": "code",
        "id": "AgzBACuDUVN2"
      },
      "outputs": [],
      "source": [
        "student['House'] = 'Kirkland' #Adding more key-value pairs 'House' is Key 'Kirkland' is Value\n",
        "student['College'] = 'Harvard University'"
      ]
    },
    {
      "cell_type": "code",
      "execution_count": 76,
      "metadata": {
        "colab": {
          "base_uri": "https://localhost:8080/",
          "height": 35
        },
        "colab_type": "code",
        "id": "Q23afVf4U1GF",
        "outputId": "cd3a2616-8c00-4348-df15-56dad0e4c8e9"
      },
      "outputs": [
        {
          "name": "stdout",
          "output_type": "stream",
          "text": [
            "{'Name': 'Mark Z', 'Age': 30, 'Major': 'CS', 'House': 'Kirkland', 'College': 'Harvard University'}\n"
          ]
        }
      ],
      "source": [
        "print(student)"
      ]
    },
    {
      "cell_type": "code",
      "execution_count": 77,
      "metadata": {
        "colab": {},
        "colab_type": "code",
        "id": "GaQStBI8U5at"
      },
      "outputs": [],
      "source": [
        "student['Age'] = 19 # Updating value related to any Key like Age"
      ]
    },
    {
      "cell_type": "code",
      "execution_count": 78,
      "metadata": {
        "colab": {
          "base_uri": "https://localhost:8080/",
          "height": 35
        },
        "colab_type": "code",
        "id": "QxBCvLj2VWN-",
        "outputId": "87713fa1-14f0-4908-d44f-5780c17b7a94"
      },
      "outputs": [
        {
          "name": "stdout",
          "output_type": "stream",
          "text": [
            "{'Name': 'Mark Z', 'Age': 19, 'Major': 'CS', 'House': 'Kirkland', 'College': 'Harvard University'}\n"
          ]
        }
      ],
      "source": [
        "print(student)"
      ]
    },
    {
      "cell_type": "code",
      "execution_count": 79,
      "metadata": {
        "colab": {
          "base_uri": "https://localhost:8080/",
          "height": 35
        },
        "colab_type": "code",
        "id": "G9kgen6KVXk6",
        "outputId": "480001dd-99fb-4e8c-bed7-ec9067836e47"
      },
      "outputs": [
        {
          "name": "stdout",
          "output_type": "stream",
          "text": [
            "{'Name': 'Mark Z', 'Age': 19, 'Major': 'CS', 'House': 'Kirkland'}\n"
          ]
        }
      ],
      "source": [
        "del student['College'] #Permanently remove key-value pair from dictionary\n",
        "print(student)"
      ]
    },
    {
      "cell_type": "code",
      "execution_count": 80,
      "metadata": {
        "colab": {
          "base_uri": "https://localhost:8080/",
          "height": 35
        },
        "colab_type": "code",
        "id": "AJFyl06OVsCn",
        "outputId": "cbb05950-35f4-44a2-f0b6-9cd7a6a33234"
      },
      "outputs": [
        {
          "name": "stdout",
          "output_type": "stream",
          "text": [
            "Mark Z\n"
          ]
        }
      ],
      "source": [
        "name_of_student = student.get('Name','No name assigned') #returns value associated with given key if present\n",
        "print(name_of_student) # else return given string that is \"No name assigned\""
      ]
    },
    {
      "cell_type": "code",
      "execution_count": 81,
      "metadata": {
        "colab": {},
        "colab_type": "code",
        "id": "aDApNZPEWTKG"
      },
      "outputs": [],
      "source": [
        "student = {'Name':'Mark Z','Age':30,'Major':'CS','House':'Kirkland','College':'Harvard University'}"
      ]
    },
    {
      "cell_type": "code",
      "execution_count": 82,
      "metadata": {
        "colab": {
          "base_uri": "https://localhost:8080/",
          "height": 108
        },
        "colab_type": "code",
        "id": "-2BJTZmkW1OT",
        "outputId": "7a808318-2442-462b-b00d-9fe545c5926a"
      },
      "outputs": [
        {
          "name": "stdout",
          "output_type": "stream",
          "text": [
            "Key is  Name ->Value is  Mark Z\n",
            "Key is  Age ->Value is  30\n",
            "Key is  Major ->Value is  CS\n",
            "Key is  House ->Value is  Kirkland\n",
            "Key is  College ->Value is  Harvard University\n"
          ]
        }
      ],
      "source": [
        "for key,value in student.items():  #looping through key and values of dictionary\n",
        "    print(\"Key is \",key,\"->Value is \",value)"
      ]
    },
    {
      "cell_type": "code",
      "execution_count": 83,
      "metadata": {
        "colab": {
          "base_uri": "https://localhost:8080/",
          "height": 108
        },
        "colab_type": "code",
        "id": "RMIkMFgQXAEG",
        "outputId": "2540c0b5-50a6-4ea0-c9e6-f76c08be4259"
      },
      "outputs": [
        {
          "name": "stdout",
          "output_type": "stream",
          "text": [
            "Key is:  Name\n",
            "Key is:  Age\n",
            "Key is:  Major\n",
            "Key is:  House\n",
            "Key is:  College\n"
          ]
        }
      ],
      "source": [
        "for key in student.keys(): #looping only through keys OR default is always keys\n",
        "    print(\"Key is: \",key)"
      ]
    },
    {
      "cell_type": "code",
      "execution_count": 84,
      "metadata": {
        "colab": {
          "base_uri": "https://localhost:8080/",
          "height": 108
        },
        "colab_type": "code",
        "id": "Qz6aS2nbXW4m",
        "outputId": "f61dbaa8-a1e9-4a92-8178-0d8d8363b351"
      },
      "outputs": [
        {
          "name": "stdout",
          "output_type": "stream",
          "text": [
            "Key is  Name\n",
            "Key is  Age\n",
            "Key is  Major\n",
            "Key is  House\n",
            "Key is  College\n"
          ]
        }
      ],
      "source": [
        "for key in student:\n",
        "    print(\"Key is \",key)"
      ]
    },
    {
      "cell_type": "code",
      "execution_count": 85,
      "metadata": {
        "colab": {
          "base_uri": "https://localhost:8080/",
          "height": 35
        },
        "colab_type": "code",
        "id": "TRDxc6hmXxhK",
        "outputId": "4017f827-13ad-4504-cd3a-15411046dba0"
      },
      "outputs": [
        {
          "name": "stdout",
          "output_type": "stream",
          "text": [
            "True\n"
          ]
        }
      ],
      "source": [
        "student = {'Name':'Mark Z','Age':30,'Major':'CS','House':'Kirkland','College':'Harvard University'}\n",
        "print('Name' in student.keys())"
      ]
    },
    {
      "cell_type": "code",
      "execution_count": 86,
      "metadata": {
        "colab": {
          "base_uri": "https://localhost:8080/",
          "height": 108
        },
        "colab_type": "code",
        "id": "AtOwH89pX6jx",
        "outputId": "ea063d33-9d93-49cc-ebd1-b957aede05e6"
      },
      "outputs": [
        {
          "name": "stdout",
          "output_type": "stream",
          "text": [
            "Value is  Mark Z\n",
            "Value is  30\n",
            "Value is  CS\n",
            "Value is  Kirkland\n",
            "Value is  Harvard University\n"
          ]
        }
      ],
      "source": [
        "for value in student.values(): #looping through all values in dictionary\n",
        "    print(\"Value is \" , value)"
      ]
    },
    {
      "cell_type": "code",
      "execution_count": 87,
      "metadata": {
        "colab": {},
        "colab_type": "code",
        "id": "9uLU_uoCYgX3"
      },
      "outputs": [],
      "source": [
        "languages = {1:'Python',2:'Java',3:'C++',4:'C',5:'Ruby',6:'Python'}"
      ]
    },
    {
      "cell_type": "code",
      "execution_count": 88,
      "metadata": {
        "colab": {
          "base_uri": "https://localhost:8080/",
          "height": 35
        },
        "colab_type": "code",
        "id": "2iJm5NxKZYNL",
        "outputId": "9d98bf22-5797-4568-9f37-ad8511604283"
      },
      "outputs": [
        {
          "name": "stdout",
          "output_type": "stream",
          "text": [
            "{'Python', 'C++', 'Ruby', 'Java', 'C'}\n"
          ]
        }
      ],
      "source": [
        "print(set(languages.values())) #Creates unique list of values in dictionary sets have only unique values"
      ]
    },
    {
      "cell_type": "code",
      "execution_count": 89,
      "metadata": {
        "colab": {
          "base_uri": "https://localhost:8080/",
          "height": 35
        },
        "colab_type": "code",
        "id": "GRf9a1NnZfdH",
        "outputId": "96965c83-8aff-46df-91c3-dde253a01f63"
      },
      "outputs": [
        {
          "data": {
            "text/plain": [
              "{'apple', 'fig', 'mangoes', 'orange'}"
            ]
          },
          "execution_count": 89,
          "metadata": {},
          "output_type": "execute_result"
        }
      ],
      "source": [
        "fruits_set = {'mangoes','apple','orange','fig','apple'} #duplicates in set are considered only once\n",
        "fruits_set"
      ]
    },
    {
      "cell_type": "code",
      "execution_count": 90,
      "metadata": {
        "colab": {
          "base_uri": "https://localhost:8080/",
          "height": 55
        },
        "colab_type": "code",
        "id": "UPCgLCpeZ8VS",
        "outputId": "1f1317e2-fd9e-4fae-fa7c-ce709616cf3e"
      },
      "outputs": [
        {
          "name": "stdout",
          "output_type": "stream",
          "text": [
            "[{'Name': 'apple', 'Number': 1}, {'Name': 'mangoes', 'Number': 2}, {'Name': 'orange', 'Number': 3}, {'Name': 'fig', 'Number': 4}]\n"
          ]
        }
      ],
      "source": [
        "fruits_list = []\n",
        "i = 1\n",
        "for fruit in fruits_set:\n",
        "    new_fruit = {'Name':fruit,'Number':i}\n",
        "    i = i + 1\n",
        "    fruits_list.append(new_fruit)\n",
        "print(fruits_list) #Creating and printing a list of dictionaries"
      ]
    },
    {
      "cell_type": "code",
      "execution_count": 91,
      "metadata": {
        "colab": {},
        "colab_type": "code",
        "id": "jg5IwBO6awoU"
      },
      "outputs": [],
      "source": [
        "pizza = {'Crust':'Thick',\n",
        "         'Toppings' : ['cheese','paneer','olives'],\n",
        "         'Price':250} #Values of toppings Key is a list of items"
      ]
    },
    {
      "cell_type": "code",
      "execution_count": 92,
      "metadata": {
        "colab": {
          "base_uri": "https://localhost:8080/",
          "height": 90
        },
        "colab_type": "code",
        "id": "zCkQ2rn-bWHY",
        "outputId": "47bde913-5b73-4634-eb45-ce8c68292620"
      },
      "outputs": [
        {
          "name": "stdout",
          "output_type": "stream",
          "text": [
            "Thick\n",
            "['cheese', 'paneer', 'olives']\n",
            "250\n",
            "['cheese', 'paneer', 'olives']\n"
          ]
        }
      ],
      "source": [
        "for pizza_value in pizza.values():\n",
        "    print(pizza_value)\n",
        "\n",
        "print(pizza['Toppings'])"
      ]
    },
    {
      "cell_type": "code",
      "execution_count": 93,
      "metadata": {
        "colab": {},
        "colab_type": "code",
        "id": "7n5oQBMCbcpR"
      },
      "outputs": [],
      "source": [
        "users = {\n",
        "    'markz':{\n",
        "        'f_name':'Mark',\n",
        "        'l_name':'Zukerberg',\n",
        "        'location':'Harvard'\n",
        "    },\n",
        "    'robertc':{\n",
        "        'f_name':'Robert',\n",
        "        'l_name':'Curie',\n",
        "        'location':'Yale'\n",
        "    },\n",
        "    'stanl':{\n",
        "        'f_name':'Stan',\n",
        "        'l_name':'Lee',\n",
        "        'location':'Stanford'\n",
        "    }\n",
        "} #nested Dictionaries every key is associated with another dictionary"
      ]
    },
    {
      "cell_type": "code",
      "execution_count": 94,
      "metadata": {
        "colab": {
          "base_uri": "https://localhost:8080/",
          "height": 181
        },
        "colab_type": "code",
        "id": "JkdhIbf_cWq6",
        "outputId": "ffcfc174-6d07-466a-82ac-658afa5e8a16"
      },
      "outputs": [
        {
          "name": "stdout",
          "output_type": "stream",
          "text": [
            "Username:  markz\n",
            "\tFullName  Mark Zukerberg\n",
            "\tLocation  Harvard\n",
            "Username:  robertc\n",
            "\tFullName  Robert Curie\n",
            "\tLocation  Yale\n",
            "Username:  stanl\n",
            "\tFullName  Stan Lee\n",
            "\tLocation  Stanford\n"
          ]
        }
      ],
      "source": [
        "for user_name,details in users.items():\n",
        "    print(\"Username: \",user_name)\n",
        "    full_name = f\"{details['f_name']} {details['l_name']}\"\n",
        "    loc = details['location']\n",
        "    print(\"\\tFullName \",full_name)\n",
        "    print(\"\\tLocation \",loc)"
      ]
    },
    {
      "cell_type": "markdown",
      "metadata": {
        "colab_type": "text",
        "id": "dOZQBbhoeHpD"
      },
      "source": [
        "# User Inputs and While Loops"
      ]
    },
    {
      "cell_type": "code",
      "execution_count": 99,
      "metadata": {
        "colab": {
          "base_uri": "https://localhost:8080/",
          "height": 54
        },
        "colab_type": "code",
        "id": "Wt8Sf1h3eMHn",
        "outputId": "61691916-6247-45bd-e72c-5f454af6e005"
      },
      "outputs": [
        {
          "name": "stdout",
          "output_type": "stream",
          "text": [
            "Your name is  Shrayank <class 'str'>\n"
          ]
        }
      ],
      "source": [
        "name = input(\"Please Enter your name \") #all input taken datatype is string\n",
        "print(\"Your name is \",name , type(name))"
      ]
    },
    {
      "cell_type": "code",
      "execution_count": 100,
      "metadata": {
        "colab": {
          "base_uri": "https://localhost:8080/",
          "height": 54
        },
        "colab_type": "code",
        "id": "ftUhpAaseS7i",
        "outputId": "70a38c28-0ce7-4397-c90c-b9fa96f3edf1"
      },
      "outputs": [
        {
          "name": "stdout",
          "output_type": "stream",
          "text": [
            "Your age is  24 <class 'str'>\n"
          ]
        }
      ],
      "source": [
        "age = input(\"Enter your age\")\n",
        "print(\"Your age is \",age, type(age))"
      ]
    },
    {
      "cell_type": "code",
      "execution_count": 101,
      "metadata": {
        "colab": {
          "base_uri": "https://localhost:8080/",
          "height": 35
        },
        "colab_type": "code",
        "id": "DHCYOCMxey4d",
        "outputId": "a5c49ef4-cefc-4c8c-fc0e-9fc951b3f3e0"
      },
      "outputs": [
        {
          "name": "stdout",
          "output_type": "stream",
          "text": [
            "24 <class 'int'>\n"
          ]
        }
      ],
      "source": [
        "age_int = int(age) #casting a string(str) to integer(int)\n",
        "print(age_int,type(age_int))"
      ]
    },
    {
      "cell_type": "code",
      "execution_count": 102,
      "metadata": {
        "colab": {
          "base_uri": "https://localhost:8080/",
          "height": 72
        },
        "colab_type": "code",
        "id": "GipPJQG2e5Ua",
        "outputId": "20974da9-a693-4796-d012-6bedce5631bd"
      },
      "outputs": [
        {
          "name": "stdout",
          "output_type": "stream",
          "text": [
            "Your city is  Pune\n"
          ]
        }
      ],
      "source": [
        "while True:\n",
        "    city = input(\"Enter your city OR q to Quit\")\n",
        "    if city != 'q':\n",
        "        print(\"Your city is \",city)\n",
        "    else:\n",
        "        break"
      ]
    },
    {
      "cell_type": "code",
      "execution_count": null,
      "metadata": {
        "colab": {},
        "colab_type": "code",
        "id": "rhHHlrU0gBln"
      },
      "outputs": [],
      "source": [
        "print(\"Printing odd numbers upto 100\")\n",
        "number = 0\n",
        "while number < 100:\n",
        "    number = number + 1\n",
        "    if number%2 == 0:\n",
        "        continue\n",
        "    else:\n",
        "        print(number)"
      ]
    },
    {
      "cell_type": "code",
      "execution_count": 104,
      "metadata": {
        "colab": {
          "base_uri": "https://localhost:8080/",
          "height": 126
        },
        "colab_type": "code",
        "id": "I2WnSUcqgWj_",
        "outputId": "f103e10d-4e0c-4ada-ed5e-cfec1c486424"
      },
      "outputs": [
        {
          "name": "stdout",
          "output_type": "stream",
          "text": [
            "0\n",
            "1\n",
            "2\n",
            "3\n",
            "4\n",
            "5\n"
          ]
        }
      ],
      "source": [
        "numbers = list(range(6))\n",
        "while numbers:\n",
        "    print(numbers.pop(0))"
      ]
    },
    {
      "cell_type": "markdown",
      "metadata": {
        "colab_type": "text",
        "id": "0Olwp6OuhBf8"
      },
      "source": [
        "# Functions"
      ]
    },
    {
      "cell_type": "code",
      "execution_count": 105,
      "metadata": {
        "colab": {},
        "colab_type": "code",
        "id": "EuJ5PR3ihDal"
      },
      "outputs": [],
      "source": [
        "def greetings(username): #parameter is passed by Value not reference\n",
        "    print(\"Welcome to Python\",username) "
      ]
    },
    {
      "cell_type": "code",
      "execution_count": 106,
      "metadata": {
        "colab": {
          "base_uri": "https://localhost:8080/",
          "height": 54
        },
        "colab_type": "code",
        "id": "-OElhLish6KU",
        "outputId": "e29684b8-9f60-4cb9-d019-d73a0cee1696"
      },
      "outputs": [
        {
          "name": "stdout",
          "output_type": "stream",
          "text": [
            "Welcome to Python Shrayank\n",
            "Shrayank\n"
          ]
        }
      ],
      "source": [
        "username = 'Shrayank'\n",
        "greetings(username)\n",
        "print(username)\n"
      ]
    },
    {
      "cell_type": "code",
      "execution_count": 107,
      "metadata": {
        "colab": {},
        "colab_type": "code",
        "id": "XmeGDDZih81a"
      },
      "outputs": [],
      "source": [
        "def check_even_odd(numbers_list):\n",
        "    even_nos ,odd_nos = [] , []\n",
        "    for number in numbers_list:\n",
        "        if number%2 == 0:\n",
        "            even_nos.append(number)\n",
        "        else:\n",
        "            odd_nos.append(number)\n",
        "    print(\"Even nos are: \",len(even_nos))\n",
        "    print(\"Odd nos are: \",len(odd_nos))"
      ]
    },
    {
      "cell_type": "code",
      "execution_count": 108,
      "metadata": {
        "colab": {
          "base_uri": "https://localhost:8080/",
          "height": 54
        },
        "colab_type": "code",
        "id": "hmXX-8S7izri",
        "outputId": "6dbaa773-a916-4da0-fee4-fc0957ff61e6"
      },
      "outputs": [
        {
          "name": "stdout",
          "output_type": "stream",
          "text": [
            "Even nos are:  50\n",
            "Odd nos are:  50\n"
          ]
        }
      ],
      "source": [
        "check_even_odd(list(range(1,101)))"
      ]
    },
    {
      "cell_type": "code",
      "execution_count": 109,
      "metadata": {
        "colab": {},
        "colab_type": "code",
        "id": "n-NjCIa1i7Ge"
      },
      "outputs": [],
      "source": [
        "def default_parameters(name =''):\n",
        "    if name:\n",
        "        print(\"Your name is \", name)\n",
        "    else:\n",
        "        print(\"No name given\")"
      ]
    },
    {
      "cell_type": "code",
      "execution_count": 110,
      "metadata": {
        "colab": {
          "base_uri": "https://localhost:8080/",
          "height": 54
        },
        "colab_type": "code",
        "id": "_piCg1ZBjVuo",
        "outputId": "23215ed3-d8df-4c14-f734-0de08e2a5aa0"
      },
      "outputs": [
        {
          "name": "stdout",
          "output_type": "stream",
          "text": [
            "No name given\n",
            "Your name is  Shrayank\n"
          ]
        }
      ],
      "source": [
        "default_parameters()\n",
        "default_parameters('Shrayank') #OverWrites the default value in function definition"
      ]
    },
    {
      "cell_type": "code",
      "execution_count": 111,
      "metadata": {
        "colab": {},
        "colab_type": "code",
        "id": "3IjA2o7fkeY6"
      },
      "outputs": [],
      "source": [
        "def modify_list(original,reverse): \n",
        "    while original:\n",
        "        reverse.append(original.pop())"
      ]
    },
    {
      "cell_type": "code",
      "execution_count": 112,
      "metadata": {
        "colab": {
          "base_uri": "https://localhost:8080/",
          "height": 54
        },
        "colab_type": "code",
        "id": "ZVk6Ol8ojX3j",
        "outputId": "54483bf8-13d0-40c2-a4ab-43152177b786"
      },
      "outputs": [
        {
          "name": "stdout",
          "output_type": "stream",
          "text": [
            "[10, 9, 8, 7, 6, 5, 4, 3, 2, 1, 0]\n",
            "[]\n"
          ]
        }
      ],
      "source": [
        "numbers_list = list(range(11))\n",
        "new_list = []\n",
        "modify_list(numbers_list,new_list) #List is passed by reference not Value\n",
        "print(new_list)\n",
        "print(numbers_list)"
      ]
    },
    {
      "cell_type": "code",
      "execution_count": 113,
      "metadata": {
        "colab": {
          "base_uri": "https://localhost:8080/",
          "height": 54
        },
        "colab_type": "code",
        "id": "1WXapv-xk2M2",
        "outputId": "89df6e8c-d48e-4e50-aae0-a97e3046d7bb"
      },
      "outputs": [
        {
          "name": "stdout",
          "output_type": "stream",
          "text": [
            "[10, 9, 8, 7, 6, 5, 4, 3, 2, 1, 0]\n",
            "[0, 1, 2, 3, 4, 5, 6, 7, 8, 9, 10]\n"
          ]
        }
      ],
      "source": [
        "numbers_list = list(range(11))\n",
        "new_list = []\n",
        "modify_list(numbers_list[:],new_list) #Copy of the list is passed to the function\n",
        "print(new_list)\n",
        "print(numbers_list)"
      ]
    },
    {
      "cell_type": "code",
      "execution_count": 114,
      "metadata": {
        "colab": {},
        "colab_type": "code",
        "id": "p7RpNFqKlQ3P"
      },
      "outputs": [],
      "source": [
        "def pizza_toppings(*toppings): #Function can take arbitary no of arguments(one or many) toppings is tuple\n",
        "    print(type(toppings))\n",
        "    if toppings:\n",
        "        print(\"Avaliable toppings \", toppings)\n",
        "    else:\n",
        "        print(\"No toppings avaliable\")"
      ]
    },
    {
      "cell_type": "code",
      "execution_count": 115,
      "metadata": {
        "colab": {
          "base_uri": "https://localhost:8080/",
          "height": 126
        },
        "colab_type": "code",
        "id": "CrKWoRJhl80o",
        "outputId": "aa50cee6-3457-4a4c-8bc9-77cbf1e951d8"
      },
      "outputs": [
        {
          "name": "stdout",
          "output_type": "stream",
          "text": [
            "<class 'tuple'>\n",
            "No toppings avaliable\n",
            "<class 'tuple'>\n",
            "Avaliable toppings  ('cheese',)\n",
            "<class 'tuple'>\n",
            "Avaliable toppings  ('cheese', 'olives', 'onion', 'macharoni')\n"
          ]
        }
      ],
      "source": [
        "pizza_toppings()\n",
        "pizza_toppings('cheese')\n",
        "pizza_toppings('cheese','olives','onion','macharoni')"
      ]
    },
    {
      "cell_type": "code",
      "execution_count": 116,
      "metadata": {
        "colab": {},
        "colab_type": "code",
        "id": "YG77UuIAl_5p"
      },
      "outputs": [],
      "source": [
        "def pizza_toppings_modified(size,*toppings): #Arbitary arguments are always last in parameter list\n",
        "    print(size,toppings)"
      ]
    },
    {
      "cell_type": "code",
      "execution_count": 117,
      "metadata": {
        "colab": {
          "base_uri": "https://localhost:8080/",
          "height": 54
        },
        "colab_type": "code",
        "id": "JfP2H4xTmjfM",
        "outputId": "d8186ee3-1791-47e7-d154-c85173952b53"
      },
      "outputs": [
        {
          "name": "stdout",
          "output_type": "stream",
          "text": [
            "16 ('cheese',)\n",
            "12 ('cheese', 'olives', 'onion')\n"
          ]
        }
      ],
      "source": [
        "pizza_toppings_modified(16,'cheese')\n",
        "pizza_toppings_modified(12,'cheese','olives','onion')"
      ]
    },
    {
      "cell_type": "markdown",
      "metadata": {
        "colab_type": "text",
        "id": "23Bh-diVnefG"
      },
      "source": [
        "# Classes"
      ]
    },
    {
      "cell_type": "code",
      "execution_count": 118,
      "metadata": {
        "colab": {},
        "colab_type": "code",
        "id": "2oBxNT0MmnaX"
      },
      "outputs": [],
      "source": [
        "class Car:\n",
        "    def __init__(self,price,mileage,top_speed):\n",
        "        #Defines all the instance variables of the class Car\n",
        "        self.price = price\n",
        "        self.mileage = mileage\n",
        "        self.top_speed = top_speed\n",
        "    \n",
        "    def display_features(self):\n",
        "        print(\"Price: \", self.price)\n",
        "        print(\"Mileage: \",self.mileage, \"miles per gallon\")\n",
        "        print(\"Top Speed: \",self.top_speed, \" miles per hour\")"
      ]
    },
    {
      "cell_type": "code",
      "execution_count": 119,
      "metadata": {
        "colab": {
          "base_uri": "https://localhost:8080/",
          "height": 72
        },
        "colab_type": "code",
        "id": "iTDXB4gitHW2",
        "outputId": "1cb66f34-0091-4c1d-92c2-f82b6f5f9824"
      },
      "outputs": [
        {
          "name": "stdout",
          "output_type": "stream",
          "text": [
            "Price:  $2000\n",
            "Mileage:  45 miles per gallon\n",
            "Top Speed:  200  miles per hour\n"
          ]
        }
      ],
      "source": [
        "a = Car('$1000',45,200)\n",
        "a.price = '$2000'\n",
        "a.display_features()"
      ]
    },
    {
      "cell_type": "code",
      "execution_count": 120,
      "metadata": {
        "colab": {
          "base_uri": "https://localhost:8080/",
          "height": 72
        },
        "colab_type": "code",
        "id": "xpfg-fcSuq9z",
        "outputId": "9ce82e58-f078-4ba4-e661-fa9baa014ab3"
      },
      "outputs": [
        {
          "name": "stdout",
          "output_type": "stream",
          "text": [
            "Price:  $3000\n",
            "Mileage:  50 miles per gallon\n",
            "Top Speed:  150  miles per hour\n"
          ]
        }
      ],
      "source": [
        "b = Car('$3000',50,150)\n",
        "b.display_features()"
      ]
    },
    {
      "cell_type": "code",
      "execution_count": 121,
      "metadata": {
        "colab": {},
        "colab_type": "code",
        "id": "slvfzTDotLx-"
      },
      "outputs": [],
      "source": [
        "class no_variables:\n",
        "    def __init__(self):\n",
        "        #No instance variables associated with this class\n",
        "        print(\"Creating instance\")\n",
        "    \n",
        "    def display_greeting(self,name):\n",
        "        print(\"Welcome to Python,\",name)"
      ]
    },
    {
      "cell_type": "code",
      "execution_count": 122,
      "metadata": {
        "colab": {
          "base_uri": "https://localhost:8080/",
          "height": 54
        },
        "colab_type": "code",
        "id": "SV5EO8zot_Jc",
        "outputId": "caa04b1d-3781-4ec8-a642-aaf3a02c89f8"
      },
      "outputs": [
        {
          "name": "stdout",
          "output_type": "stream",
          "text": [
            "Creating instance\n",
            "Welcome to Python, Mark\n"
          ]
        }
      ],
      "source": [
        "b = no_variables()\n",
        "b.display_greeting('Mark')"
      ]
    },
    {
      "cell_type": "code",
      "execution_count": 123,
      "metadata": {
        "colab": {},
        "colab_type": "code",
        "id": "XBa3Fn5IuFpw"
      },
      "outputs": [],
      "source": [
        "class Car_default:\n",
        "    def __init__(self,price,mileage,top_speed):\n",
        "        #Defines all the instance variables of the class Car\n",
        "        self.price = price\n",
        "        self.mileage = mileage\n",
        "        self.top_speed = top_speed\n",
        "        self.total_miles = 0\n",
        "    \n",
        "    def display_features(self):\n",
        "        print(\"Price: \", self.price)\n",
        "        print(\"Mileage: \",self.mileage, \"miles per gallon\")\n",
        "        print(\"Top Speed: \",self.top_speed, \" miles per hour\")\n",
        "        if self.total_miles == 0:\n",
        "            print(\"The Car is New\")\n",
        "        else:\n",
        "            print(\"The Car has \",self.total_miles,\" on it\")"
      ]
    },
    {
      "cell_type": "code",
      "execution_count": 124,
      "metadata": {
        "colab": {
          "base_uri": "https://localhost:8080/",
          "height": 90
        },
        "colab_type": "code",
        "id": "80N1CuV2vNi_",
        "outputId": "585e7fbf-b21d-4da8-bf85-ffed1e29e395"
      },
      "outputs": [
        {
          "name": "stdout",
          "output_type": "stream",
          "text": [
            "Price:  $2600\n",
            "Mileage:  60 miles per gallon\n",
            "Top Speed:  130  miles per hour\n",
            "The Car is New\n"
          ]
        }
      ],
      "source": [
        "c = Car_default('$2600',60,130)\n",
        "c.display_features()"
      ]
    },
    {
      "cell_type": "code",
      "execution_count": 125,
      "metadata": {
        "colab": {},
        "colab_type": "code",
        "id": "sKwdfG6YvekX"
      },
      "outputs": [],
      "source": [
        "#Inheritance\n",
        "class Car:\n",
        "    def __init__(self,price,mileage,top_speed):\n",
        "        #Defines all the instance variables of the class Car\n",
        "        self.price = price\n",
        "        self.mileage = mileage\n",
        "        self.top_speed = top_speed\n",
        "    \n",
        "    def display_features(self):\n",
        "        print(\"Price: \", self.price)\n",
        "        print(\"Mileage: \",self.mileage, \"miles per gallon\")\n",
        "        print(\"Top Speed: \",self.top_speed, \" miles per hour\")\n",
        "    "
      ]
    },
    {
      "cell_type": "code",
      "execution_count": 126,
      "metadata": {
        "colab": {},
        "colab_type": "code",
        "id": "QJdXycwpv5gQ"
      },
      "outputs": [],
      "source": [
        "class ElectricCar(Car):\n",
        "    def __init__(self,price,mileage,top_speed,range):\n",
        "        super().__init__(price,mileage,top_speed)\n",
        "        self.range = range\n",
        "    \n",
        "    def display_features_electric(self):\n",
        "        self.display_features()\n",
        "        print(\"Range is: \",self.range)"
      ]
    },
    {
      "cell_type": "code",
      "execution_count": 127,
      "metadata": {
        "colab": {
          "base_uri": "https://localhost:8080/",
          "height": 90
        },
        "colab_type": "code",
        "id": "lpgHfGJOwSP_",
        "outputId": "b976f8c5-74f4-49da-98da-6a7c290ed12a"
      },
      "outputs": [
        {
          "name": "stdout",
          "output_type": "stream",
          "text": [
            "Price:  $5000\n",
            "Mileage:  300 miles per gallon\n",
            "Top Speed:  130  miles per hour\n",
            "Range is:  350\n"
          ]
        }
      ],
      "source": [
        "e_car = ElectricCar('$5000',300,130,350)\n",
        "e_car.display_features_electric()"
      ]
    },
    {
      "cell_type": "markdown",
      "metadata": {
        "colab_type": "text",
        "id": "2SkM15S1xtNt"
      },
      "source": [
        "# 9-6. Ice Cream Stand: \n",
        "An ice cream stand is a specific kind of restaurant. Write\n",
        "a class called IceCreamStand that inherits from the Restaurant class you wrote\n",
        "in Exercise 9-1 (page 162) or Exercise 9-4 (page 167). Either version of\n",
        "the class will work; just pick the one you like better. Add an attribute called\n",
        "flavors that stores a list of ice cream flavors. Write a method that displays\n",
        "these flavors. Create an instance of IceCreamStand , and call this method."
      ]
    },
    {
      "cell_type": "code",
      "execution_count": 128,
      "metadata": {
        "colab": {},
        "colab_type": "code",
        "id": "JKarGUmiwl7B"
      },
      "outputs": [],
      "source": [
        "class Restaurant:\n",
        "    def __init__(self,name,ctype,openR = False,num_served = 0):\n",
        "        self.restaurant_name = name\n",
        "        self.cuisine_type = ctype\n",
        "        self.openR = openR\n",
        "        self.number_served = num_served\n",
        "    \n",
        "    def describe_restaurant(self):\n",
        "        print(\"Restaurant Information:\")\n",
        "        print(\"\\tRestaurant Name: \",self.restaurant_name)\n",
        "        print(\"\\tCuisine Type: \",self.cuisine_type)\n",
        "    \n",
        "    def open_restaurant(self):\n",
        "        if self.openR:\n",
        "            print(\"The Restaurant is Open\")\n",
        "        else:\n",
        "            print(\"The Restaurant is Closed\")\n",
        "\n",
        "    def display_served(self):\n",
        "        print(\"Total people served are: \",self.number_served)\n",
        "    \n",
        "    def set_number_served(self,served):\n",
        "        self.number_served = served\n",
        "    \n",
        "    def increment_number_served(self,increment):\n",
        "        self.number_served = self.number_served + increment"
      ]
    },
    {
      "cell_type": "code",
      "execution_count": 129,
      "metadata": {
        "colab": {
          "base_uri": "https://localhost:8080/",
          "height": 108
        },
        "colab_type": "code",
        "id": "Mw_fOqOKyqEw",
        "outputId": "87706ba9-1b17-424a-b535-854eccd7367d"
      },
      "outputs": [
        {
          "name": "stdout",
          "output_type": "stream",
          "text": [
            "Restaurant Information:\n",
            "\tRestaurant Name:  ABC\n",
            "\tCuisine Type:  Chinese\n",
            "The Restaurant is Open\n",
            "Total people served are:  10\n"
          ]
        }
      ],
      "source": [
        "restaurant_one = Restaurant('ABC','Chinese',True,10)\n",
        "restaurant_one.describe_restaurant()\n",
        "restaurant_one.open_restaurant()\n",
        "restaurant_one.display_served()"
      ]
    },
    {
      "cell_type": "code",
      "execution_count": 130,
      "metadata": {
        "colab": {},
        "colab_type": "code",
        "id": "i--6jYpIzOS_"
      },
      "outputs": [],
      "source": [
        "class IceCreamRestaurant(Restaurant):\n",
        "    def __init__(self,name,ctype,flavours,openR = False,num_served = 0):\n",
        "        super().__init__(name,ctype,openR,num_served)\n",
        "        self.flavours = flavours\n",
        "\n",
        "    def display_flavours(self):\n",
        "        print(\"Flavours Avaliable Are: \",self.flavours)"
      ]
    },
    {
      "cell_type": "code",
      "execution_count": 131,
      "metadata": {
        "colab": {
          "base_uri": "https://localhost:8080/",
          "height": 54
        },
        "colab_type": "code",
        "id": "O_olQDKc02V-",
        "outputId": "0f2157f5-2d21-43ca-82c5-7af95a8eb00e"
      },
      "outputs": [
        {
          "name": "stdout",
          "output_type": "stream",
          "text": [
            "Flavours Avaliable Are:  ['chocolate', 'vanilla', 'mango', 'black current', 'cream', 'pista']\n",
            "The Restaurant is Open\n"
          ]
        }
      ],
      "source": [
        "flavour_list =  ['chocolate','vanilla','mango','black current','cream','pista']\n",
        "ice_r = IceCreamRestaurant('Amul','IceCream',flavour_list,True,10)\n",
        "ice_r.display_flavours()\n",
        "ice_r.open_restaurant()"
      ]
    },
    {
      "cell_type": "code",
      "execution_count": 132,
      "metadata": {
        "colab": {
          "base_uri": "https://localhost:8080/",
          "height": 35
        },
        "colab_type": "code",
        "id": "Gz72HFQ81VXa",
        "outputId": "0ddb3349-c4cd-4d3d-e63f-fcb5f0876a2d"
      },
      "outputs": [
        {
          "name": "stdout",
          "output_type": "stream",
          "text": [
            "Total people served are:  10\n"
          ]
        }
      ],
      "source": [
        "ice_r.display_served()"
      ]
    }
  ],
  "metadata": {
    "colab": {
      "authorship_tag": "ABX9TyP27PaeaYARHTJm9sjziLiA",
      "collapsed_sections": [
        "lrIB9Nvf8Xqx",
        "UZ9_ck3l9S3L",
        "zyf28toHBKyn",
        "dNvSIfI7L7Bd",
        "Jt8gm-qwPdbA",
        "y23hROcnSumL",
        "dOZQBbhoeHpD",
        "0Olwp6OuhBf8"
      ],
      "include_colab_link": true,
      "name": "BasicsOfPython.ipynb",
      "provenance": []
    },
    "kernelspec": {
      "display_name": "Python 3",
      "name": "python3"
    },
    "language_info": {
      "codemirror_mode": {
        "name": "ipython",
        "version": 3
      },
      "file_extension": ".py",
      "mimetype": "text/x-python",
      "name": "python",
      "nbconvert_exporter": "python",
      "pygments_lexer": "ipython3",
      "version": "3.6.9"
    }
  },
  "nbformat": 4,
  "nbformat_minor": 0
}
